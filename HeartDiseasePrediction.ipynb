{
 "cells": [
  {
   "cell_type": "markdown",
   "id": "e98a546c",
   "metadata": {},
   "source": [
    "# Dataset Description<br>\n",
    "This dataset consist 11 features and a target variable.<br> \n",
    "**1. Age:** Patient's Age in Years<br>\n",
    "**2. Sex:** Gender of Patient (Male->1,Female->0)<br>\n",
    "**3. Chest Pain Type:** Type of chest pain experienced by patient categorized into: 1. Typical 2. Typical Angina 3. Non anginal pain 4 Asymptotic<br>\n",
    "**4. Resting bps:** Level of Blood Pressure at resting mode in mm/HG<br>\n",
    "**5. Cholestrol:** Serum Chorestrol in mg/dl<br>\n",
    "**6. Fasting Blood Sugar:** Blood Sugar levels on fasting>120 mg/dl represents as 1 incase of true and 0 as false.<br>\n",
    "**7. Resting ecg:** Result of electrocardiogram while at rest are represented as 3 distinct values 0: Normal 1: Abnormality in ST-T wave 2: Left Venticular Hypertrophy<br>\n",
    "**8. Max Heart Rate:** Maximum heart rate achieved.<br>\n",
    "**9. Exercise Angina:** Angina induced by exercise, 0 depicting NO and 1 depicting Yes.<br>\n",
    "**10. Oldpeak:** Exercise indused ST-depression in comparison with the state of rest.<br>\n",
    "**11. ST slope:** ST segment measured in terms of slope during peak exercise. 0-> Normal,1-> upsloping, 2->Flat, 3->Downsampling<br>\n",
    "**12. Target:** It is the target variable which we have to predict. 1-> Patient is suffering from heart disease risk, 0-> Patient is normal<br>"
   ]
  },
  {
   "cell_type": "markdown",
   "id": "83958ab2",
   "metadata": {},
   "source": [
    "# Importing Libraries"
   ]
  },
  {
   "cell_type": "code",
   "execution_count": 1,
   "id": "00498e59",
   "metadata": {},
   "outputs": [],
   "source": [
    "from warn import patch\n",
    "import warnings"
   ]
  },
  {
   "cell_type": "code",
   "execution_count": 2,
   "id": "34039a04",
   "metadata": {},
   "outputs": [],
   "source": [
    "warnings.filterwarnings('ignore')"
   ]
  },
  {
   "cell_type": "code",
   "execution_count": 3,
   "id": "26ff3f3f",
   "metadata": {},
   "outputs": [],
   "source": [
    "# Data wrangling and pre-processing\n",
    "import pandas as pd\n",
    "import numpy as np"
   ]
  },
  {
   "cell_type": "code",
   "execution_count": 4,
   "id": "a470d63d",
   "metadata": {},
   "outputs": [],
   "source": [
    "#Data Visulalization\n",
    "import matplotlib.pyplot as plt\n",
    "import seaborn as sns"
   ]
  },
  {
   "cell_type": "code",
   "execution_count": 5,
   "id": "dc04c852",
   "metadata": {},
   "outputs": [],
   "source": [
    "#Train_test Split\n",
    "from sklearn.model_selection import train_test_split "
   ]
  },
  {
   "cell_type": "code",
   "execution_count": 6,
   "id": "b1b9fced",
   "metadata": {},
   "outputs": [],
   "source": [
    "# Model Validation\n",
    "from sklearn.metrics import log_loss,roc_auc_score,precision_score,f1_score,recall_score,roc_curve,auc\n",
    "from sklearn.metrics import classification_report, confusion_matrix, accuracy_score, fbeta_score\n",
    "from sklearn import metrics"
   ]
  },
  {
   "cell_type": "code",
   "execution_count": 7,
   "id": "6515fc08",
   "metadata": {},
   "outputs": [],
   "source": [
    "#Cross Validation\n",
    "from sklearn.model_selection import StratifiedKFold\n",
    "from sklearn.discriminant_analysis import LinearDiscriminantAnalysis"
   ]
  },
  {
   "cell_type": "code",
   "execution_count": 8,
   "id": "7e5f0c13",
   "metadata": {},
   "outputs": [],
   "source": [
    "# Machine Learning Algorithms\n",
    "from sklearn.linear_model import LogisticRegression\n",
    "from sklearn.ensemble import RandomForestClassifier,VotingClassifier,AdaBoostClassifier,GradientBoostingClassifier,RandomForestClassifier,ExtraTreesClassifier\n",
    "from sklearn.neural_network import MLPClassifier\n",
    "from sklearn.tree import DecisionTreeClassifier\n",
    "from sklearn.neighbors import KNeighborsClassifier\n",
    "from sklearn.linear_model import SGDClassifier\n",
    "from sklearn.naive_bayes import GaussianNB\n",
    "from sklearn.svm import SVC\n",
    "import matplotlib\n",
    "import sklearn\n",
    "import xgboost as xgb\n",
    "import keras\n",
    "from scipy import stats\n",
    "from sklearn.metrics import matthews_corrcoef"
   ]
  },
  {
   "cell_type": "code",
   "execution_count": 9,
   "id": "0d8c4a0c",
   "metadata": {},
   "outputs": [
    {
     "name": "stdout",
     "output_type": "stream",
     "text": [
      "Pandas: 1.4.2\n",
      "Numpy: 1.21.5\n",
      "Sklearn: 1.0.2\n",
      "Matplotlib: 3.5.1\n",
      "Keras: 2.10.0\n"
     ]
    }
   ],
   "source": [
    "# Versions\n",
    "print(\"Pandas: {}\".format(pd.__version__))\n",
    "print(\"Numpy: {}\".format(np.__version__))\n",
    "print(\"Sklearn: {}\".format(sklearn.__version__))\n",
    "print(\"Matplotlib: {}\".format(matplotlib.__version__))\n",
    "print(\"Keras: {}\".format(keras.__version__))"
   ]
  },
  {
   "cell_type": "markdown",
   "id": "1ff5ac94",
   "metadata": {},
   "source": [
    "# Loading Dataset"
   ]
  },
  {
   "cell_type": "code",
   "execution_count": 10,
   "id": "7c4aa4f3",
   "metadata": {},
   "outputs": [],
   "source": [
    "dt=pd.read_csv('heart_statlog_cleveland_hungary_final.csv')"
   ]
  },
  {
   "cell_type": "code",
   "execution_count": 11,
   "id": "b12020c8",
   "metadata": {},
   "outputs": [
    {
     "data": {
      "text/html": [
       "<div>\n",
       "<style scoped>\n",
       "    .dataframe tbody tr th:only-of-type {\n",
       "        vertical-align: middle;\n",
       "    }\n",
       "\n",
       "    .dataframe tbody tr th {\n",
       "        vertical-align: top;\n",
       "    }\n",
       "\n",
       "    .dataframe thead th {\n",
       "        text-align: right;\n",
       "    }\n",
       "</style>\n",
       "<table border=\"1\" class=\"dataframe\">\n",
       "  <thead>\n",
       "    <tr style=\"text-align: right;\">\n",
       "      <th></th>\n",
       "      <th>age</th>\n",
       "      <th>sex</th>\n",
       "      <th>chest pain type</th>\n",
       "      <th>resting bp s</th>\n",
       "      <th>cholesterol</th>\n",
       "      <th>fasting blood sugar</th>\n",
       "      <th>resting ecg</th>\n",
       "      <th>max heart rate</th>\n",
       "      <th>exercise angina</th>\n",
       "      <th>oldpeak</th>\n",
       "      <th>ST slope</th>\n",
       "      <th>target</th>\n",
       "    </tr>\n",
       "  </thead>\n",
       "  <tbody>\n",
       "    <tr>\n",
       "      <th>0</th>\n",
       "      <td>40</td>\n",
       "      <td>1</td>\n",
       "      <td>2</td>\n",
       "      <td>140</td>\n",
       "      <td>289</td>\n",
       "      <td>0</td>\n",
       "      <td>0</td>\n",
       "      <td>172</td>\n",
       "      <td>0</td>\n",
       "      <td>0.0</td>\n",
       "      <td>1</td>\n",
       "      <td>0</td>\n",
       "    </tr>\n",
       "    <tr>\n",
       "      <th>1</th>\n",
       "      <td>49</td>\n",
       "      <td>0</td>\n",
       "      <td>3</td>\n",
       "      <td>160</td>\n",
       "      <td>180</td>\n",
       "      <td>0</td>\n",
       "      <td>0</td>\n",
       "      <td>156</td>\n",
       "      <td>0</td>\n",
       "      <td>1.0</td>\n",
       "      <td>2</td>\n",
       "      <td>1</td>\n",
       "    </tr>\n",
       "    <tr>\n",
       "      <th>2</th>\n",
       "      <td>37</td>\n",
       "      <td>1</td>\n",
       "      <td>2</td>\n",
       "      <td>130</td>\n",
       "      <td>283</td>\n",
       "      <td>0</td>\n",
       "      <td>1</td>\n",
       "      <td>98</td>\n",
       "      <td>0</td>\n",
       "      <td>0.0</td>\n",
       "      <td>1</td>\n",
       "      <td>0</td>\n",
       "    </tr>\n",
       "    <tr>\n",
       "      <th>3</th>\n",
       "      <td>48</td>\n",
       "      <td>0</td>\n",
       "      <td>4</td>\n",
       "      <td>138</td>\n",
       "      <td>214</td>\n",
       "      <td>0</td>\n",
       "      <td>0</td>\n",
       "      <td>108</td>\n",
       "      <td>1</td>\n",
       "      <td>1.5</td>\n",
       "      <td>2</td>\n",
       "      <td>1</td>\n",
       "    </tr>\n",
       "    <tr>\n",
       "      <th>4</th>\n",
       "      <td>54</td>\n",
       "      <td>1</td>\n",
       "      <td>3</td>\n",
       "      <td>150</td>\n",
       "      <td>195</td>\n",
       "      <td>0</td>\n",
       "      <td>0</td>\n",
       "      <td>122</td>\n",
       "      <td>0</td>\n",
       "      <td>0.0</td>\n",
       "      <td>1</td>\n",
       "      <td>0</td>\n",
       "    </tr>\n",
       "  </tbody>\n",
       "</table>\n",
       "</div>"
      ],
      "text/plain": [
       "   age  sex  chest pain type  resting bp s  cholesterol  fasting blood sugar  \\\n",
       "0   40    1                2           140          289                    0   \n",
       "1   49    0                3           160          180                    0   \n",
       "2   37    1                2           130          283                    0   \n",
       "3   48    0                4           138          214                    0   \n",
       "4   54    1                3           150          195                    0   \n",
       "\n",
       "   resting ecg  max heart rate  exercise angina  oldpeak  ST slope  target  \n",
       "0            0             172                0      0.0         1       0  \n",
       "1            0             156                0      1.0         2       1  \n",
       "2            1              98                0      0.0         1       0  \n",
       "3            0             108                1      1.5         2       1  \n",
       "4            0             122                0      0.0         1       0  "
      ]
     },
     "execution_count": 11,
     "metadata": {},
     "output_type": "execute_result"
    }
   ],
   "source": [
    "dt.head()"
   ]
  },
  {
   "cell_type": "code",
   "execution_count": 12,
   "id": "f1c9ba37",
   "metadata": {},
   "outputs": [
    {
     "data": {
      "text/plain": [
       "target\n",
       "0    561\n",
       "1    629\n",
       "dtype: int64"
      ]
     },
     "execution_count": 12,
     "metadata": {},
     "output_type": "execute_result"
    }
   ],
   "source": [
    "#Making all the 1 in one group and 0 in other group target\n",
    "dt.groupby('target').size()"
   ]
  },
  {
   "cell_type": "code",
   "execution_count": 13,
   "id": "1389510f",
   "metadata": {},
   "outputs": [
    {
     "name": "stdout",
     "output_type": "stream",
     "text": [
      "<class 'pandas.core.frame.DataFrame'>\n",
      "RangeIndex: 1190 entries, 0 to 1189\n",
      "Data columns (total 12 columns):\n",
      " #   Column               Non-Null Count  Dtype  \n",
      "---  ------               --------------  -----  \n",
      " 0   age                  1190 non-null   int64  \n",
      " 1   sex                  1190 non-null   int64  \n",
      " 2   chest pain type      1190 non-null   int64  \n",
      " 3   resting bp s         1190 non-null   int64  \n",
      " 4   cholesterol          1190 non-null   int64  \n",
      " 5   fasting blood sugar  1190 non-null   int64  \n",
      " 6   resting ecg          1190 non-null   int64  \n",
      " 7   max heart rate       1190 non-null   int64  \n",
      " 8   exercise angina      1190 non-null   int64  \n",
      " 9   oldpeak              1190 non-null   float64\n",
      " 10  ST slope             1190 non-null   int64  \n",
      " 11  target               1190 non-null   int64  \n",
      "dtypes: float64(1), int64(11)\n",
      "memory usage: 111.7 KB\n"
     ]
    }
   ],
   "source": [
    "dt.info()"
   ]
  },
  {
   "cell_type": "markdown",
   "id": "de0e15c0",
   "metadata": {},
   "source": [
    "# Data cleaning and PreProcessing"
   ]
  },
  {
   "cell_type": "code",
   "execution_count": 14,
   "id": "3e552b7c",
   "metadata": {},
   "outputs": [],
   "source": [
    "#renaming features/columns to proper name\n",
    "dt.columns=['age','sex','chest_pain_type','resting_blood_pressure','cholestrol','fasting_blood_sugar','Resting_ecg','Max_Heart_rate','exercise_induced_angina','st_depression','st_slope','target']"
   ]
  },
  {
   "cell_type": "code",
   "execution_count": 15,
   "id": "46b4c23a",
   "metadata": {},
   "outputs": [],
   "source": [
    "#Converting features to categorical features\n",
    "dt['chest_pain_type'][dt['chest_pain_type']==1]='Typical Angina'\n",
    "dt['chest_pain_type'][dt['chest_pain_type']==2]='aTypical Angina'\n",
    "dt['chest_pain_type'][dt['chest_pain_type']==3]='Non Angina Pain'\n",
    "dt['chest_pain_type'][dt['chest_pain_type']==4]='Asymptotic'"
   ]
  },
  {
   "cell_type": "code",
   "execution_count": 16,
   "id": "32dd1324",
   "metadata": {},
   "outputs": [
    {
     "data": {
      "text/html": [
       "<div>\n",
       "<style scoped>\n",
       "    .dataframe tbody tr th:only-of-type {\n",
       "        vertical-align: middle;\n",
       "    }\n",
       "\n",
       "    .dataframe tbody tr th {\n",
       "        vertical-align: top;\n",
       "    }\n",
       "\n",
       "    .dataframe thead th {\n",
       "        text-align: right;\n",
       "    }\n",
       "</style>\n",
       "<table border=\"1\" class=\"dataframe\">\n",
       "  <thead>\n",
       "    <tr style=\"text-align: right;\">\n",
       "      <th></th>\n",
       "      <th>age</th>\n",
       "      <th>sex</th>\n",
       "      <th>chest_pain_type</th>\n",
       "      <th>resting_blood_pressure</th>\n",
       "      <th>cholestrol</th>\n",
       "      <th>fasting_blood_sugar</th>\n",
       "      <th>Resting_ecg</th>\n",
       "      <th>Max_Heart_rate</th>\n",
       "      <th>exercise_induced_angina</th>\n",
       "      <th>st_depression</th>\n",
       "      <th>st_slope</th>\n",
       "      <th>target</th>\n",
       "    </tr>\n",
       "  </thead>\n",
       "  <tbody>\n",
       "    <tr>\n",
       "      <th>0</th>\n",
       "      <td>40</td>\n",
       "      <td>1</td>\n",
       "      <td>aTypical Angina</td>\n",
       "      <td>140</td>\n",
       "      <td>289</td>\n",
       "      <td>0</td>\n",
       "      <td>0</td>\n",
       "      <td>172</td>\n",
       "      <td>0</td>\n",
       "      <td>0.0</td>\n",
       "      <td>1</td>\n",
       "      <td>0</td>\n",
       "    </tr>\n",
       "    <tr>\n",
       "      <th>1</th>\n",
       "      <td>49</td>\n",
       "      <td>0</td>\n",
       "      <td>Non Angina Pain</td>\n",
       "      <td>160</td>\n",
       "      <td>180</td>\n",
       "      <td>0</td>\n",
       "      <td>0</td>\n",
       "      <td>156</td>\n",
       "      <td>0</td>\n",
       "      <td>1.0</td>\n",
       "      <td>2</td>\n",
       "      <td>1</td>\n",
       "    </tr>\n",
       "    <tr>\n",
       "      <th>2</th>\n",
       "      <td>37</td>\n",
       "      <td>1</td>\n",
       "      <td>aTypical Angina</td>\n",
       "      <td>130</td>\n",
       "      <td>283</td>\n",
       "      <td>0</td>\n",
       "      <td>1</td>\n",
       "      <td>98</td>\n",
       "      <td>0</td>\n",
       "      <td>0.0</td>\n",
       "      <td>1</td>\n",
       "      <td>0</td>\n",
       "    </tr>\n",
       "    <tr>\n",
       "      <th>3</th>\n",
       "      <td>48</td>\n",
       "      <td>0</td>\n",
       "      <td>Asymptotic</td>\n",
       "      <td>138</td>\n",
       "      <td>214</td>\n",
       "      <td>0</td>\n",
       "      <td>0</td>\n",
       "      <td>108</td>\n",
       "      <td>1</td>\n",
       "      <td>1.5</td>\n",
       "      <td>2</td>\n",
       "      <td>1</td>\n",
       "    </tr>\n",
       "    <tr>\n",
       "      <th>4</th>\n",
       "      <td>54</td>\n",
       "      <td>1</td>\n",
       "      <td>Non Angina Pain</td>\n",
       "      <td>150</td>\n",
       "      <td>195</td>\n",
       "      <td>0</td>\n",
       "      <td>0</td>\n",
       "      <td>122</td>\n",
       "      <td>0</td>\n",
       "      <td>0.0</td>\n",
       "      <td>1</td>\n",
       "      <td>0</td>\n",
       "    </tr>\n",
       "    <tr>\n",
       "      <th>...</th>\n",
       "      <td>...</td>\n",
       "      <td>...</td>\n",
       "      <td>...</td>\n",
       "      <td>...</td>\n",
       "      <td>...</td>\n",
       "      <td>...</td>\n",
       "      <td>...</td>\n",
       "      <td>...</td>\n",
       "      <td>...</td>\n",
       "      <td>...</td>\n",
       "      <td>...</td>\n",
       "      <td>...</td>\n",
       "    </tr>\n",
       "    <tr>\n",
       "      <th>1185</th>\n",
       "      <td>45</td>\n",
       "      <td>1</td>\n",
       "      <td>Typical Angina</td>\n",
       "      <td>110</td>\n",
       "      <td>264</td>\n",
       "      <td>0</td>\n",
       "      <td>0</td>\n",
       "      <td>132</td>\n",
       "      <td>0</td>\n",
       "      <td>1.2</td>\n",
       "      <td>2</td>\n",
       "      <td>1</td>\n",
       "    </tr>\n",
       "    <tr>\n",
       "      <th>1186</th>\n",
       "      <td>68</td>\n",
       "      <td>1</td>\n",
       "      <td>Asymptotic</td>\n",
       "      <td>144</td>\n",
       "      <td>193</td>\n",
       "      <td>1</td>\n",
       "      <td>0</td>\n",
       "      <td>141</td>\n",
       "      <td>0</td>\n",
       "      <td>3.4</td>\n",
       "      <td>2</td>\n",
       "      <td>1</td>\n",
       "    </tr>\n",
       "    <tr>\n",
       "      <th>1187</th>\n",
       "      <td>57</td>\n",
       "      <td>1</td>\n",
       "      <td>Asymptotic</td>\n",
       "      <td>130</td>\n",
       "      <td>131</td>\n",
       "      <td>0</td>\n",
       "      <td>0</td>\n",
       "      <td>115</td>\n",
       "      <td>1</td>\n",
       "      <td>1.2</td>\n",
       "      <td>2</td>\n",
       "      <td>1</td>\n",
       "    </tr>\n",
       "    <tr>\n",
       "      <th>1188</th>\n",
       "      <td>57</td>\n",
       "      <td>0</td>\n",
       "      <td>aTypical Angina</td>\n",
       "      <td>130</td>\n",
       "      <td>236</td>\n",
       "      <td>0</td>\n",
       "      <td>2</td>\n",
       "      <td>174</td>\n",
       "      <td>0</td>\n",
       "      <td>0.0</td>\n",
       "      <td>2</td>\n",
       "      <td>1</td>\n",
       "    </tr>\n",
       "    <tr>\n",
       "      <th>1189</th>\n",
       "      <td>38</td>\n",
       "      <td>1</td>\n",
       "      <td>Non Angina Pain</td>\n",
       "      <td>138</td>\n",
       "      <td>175</td>\n",
       "      <td>0</td>\n",
       "      <td>0</td>\n",
       "      <td>173</td>\n",
       "      <td>0</td>\n",
       "      <td>0.0</td>\n",
       "      <td>1</td>\n",
       "      <td>0</td>\n",
       "    </tr>\n",
       "  </tbody>\n",
       "</table>\n",
       "<p>1190 rows × 12 columns</p>\n",
       "</div>"
      ],
      "text/plain": [
       "      age  sex  chest_pain_type  resting_blood_pressure  cholestrol  \\\n",
       "0      40    1  aTypical Angina                     140         289   \n",
       "1      49    0  Non Angina Pain                     160         180   \n",
       "2      37    1  aTypical Angina                     130         283   \n",
       "3      48    0       Asymptotic                     138         214   \n",
       "4      54    1  Non Angina Pain                     150         195   \n",
       "...   ...  ...              ...                     ...         ...   \n",
       "1185   45    1   Typical Angina                     110         264   \n",
       "1186   68    1       Asymptotic                     144         193   \n",
       "1187   57    1       Asymptotic                     130         131   \n",
       "1188   57    0  aTypical Angina                     130         236   \n",
       "1189   38    1  Non Angina Pain                     138         175   \n",
       "\n",
       "      fasting_blood_sugar  Resting_ecg  Max_Heart_rate  \\\n",
       "0                       0            0             172   \n",
       "1                       0            0             156   \n",
       "2                       0            1              98   \n",
       "3                       0            0             108   \n",
       "4                       0            0             122   \n",
       "...                   ...          ...             ...   \n",
       "1185                    0            0             132   \n",
       "1186                    1            0             141   \n",
       "1187                    0            0             115   \n",
       "1188                    0            2             174   \n",
       "1189                    0            0             173   \n",
       "\n",
       "      exercise_induced_angina  st_depression  st_slope  target  \n",
       "0                           0            0.0         1       0  \n",
       "1                           0            1.0         2       1  \n",
       "2                           0            0.0         1       0  \n",
       "3                           1            1.5         2       1  \n",
       "4                           0            0.0         1       0  \n",
       "...                       ...            ...       ...     ...  \n",
       "1185                        0            1.2         2       1  \n",
       "1186                        0            3.4         2       1  \n",
       "1187                        1            1.2         2       1  \n",
       "1188                        0            0.0         2       1  \n",
       "1189                        0            0.0         1       0  \n",
       "\n",
       "[1190 rows x 12 columns]"
      ]
     },
     "execution_count": 16,
     "metadata": {},
     "output_type": "execute_result"
    }
   ],
   "source": [
    "dt"
   ]
  },
  {
   "cell_type": "code",
   "execution_count": 17,
   "id": "1093e04d",
   "metadata": {},
   "outputs": [],
   "source": [
    "dt['Resting_ecg'][dt['Resting_ecg']==0]='Normal'\n",
    "dt['Resting_ecg'][dt['Resting_ecg']==1]='ST-T wave abnormility'\n",
    "dt['Resting_ecg'][dt['Resting_ecg']==2]='Left Ventrical hypertropy'"
   ]
  },
  {
   "cell_type": "code",
   "execution_count": 18,
   "id": "628040db",
   "metadata": {},
   "outputs": [],
   "source": [
    "dt['st_slope'][dt['st_slope']==1]='Upsloping'\n",
    "dt['st_slope'][dt['st_slope']==2]='Flat'\n",
    "dt['st_slope'][dt['st_slope']==3]='Downsloping'"
   ]
  },
  {
   "cell_type": "code",
   "execution_count": 19,
   "id": "cb7673d1",
   "metadata": {},
   "outputs": [],
   "source": [
    "dt['sex']=dt.sex.apply(lambda x:'male' if x==1 else 'female')"
   ]
  },
  {
   "cell_type": "code",
   "execution_count": 20,
   "id": "db0897c7",
   "metadata": {},
   "outputs": [
    {
     "data": {
      "text/html": [
       "<div>\n",
       "<style scoped>\n",
       "    .dataframe tbody tr th:only-of-type {\n",
       "        vertical-align: middle;\n",
       "    }\n",
       "\n",
       "    .dataframe tbody tr th {\n",
       "        vertical-align: top;\n",
       "    }\n",
       "\n",
       "    .dataframe thead th {\n",
       "        text-align: right;\n",
       "    }\n",
       "</style>\n",
       "<table border=\"1\" class=\"dataframe\">\n",
       "  <thead>\n",
       "    <tr style=\"text-align: right;\">\n",
       "      <th></th>\n",
       "      <th>age</th>\n",
       "      <th>sex</th>\n",
       "      <th>chest_pain_type</th>\n",
       "      <th>resting_blood_pressure</th>\n",
       "      <th>cholestrol</th>\n",
       "      <th>fasting_blood_sugar</th>\n",
       "      <th>Resting_ecg</th>\n",
       "      <th>Max_Heart_rate</th>\n",
       "      <th>exercise_induced_angina</th>\n",
       "      <th>st_depression</th>\n",
       "      <th>st_slope</th>\n",
       "      <th>target</th>\n",
       "    </tr>\n",
       "  </thead>\n",
       "  <tbody>\n",
       "    <tr>\n",
       "      <th>0</th>\n",
       "      <td>40</td>\n",
       "      <td>male</td>\n",
       "      <td>aTypical Angina</td>\n",
       "      <td>140</td>\n",
       "      <td>289</td>\n",
       "      <td>0</td>\n",
       "      <td>Normal</td>\n",
       "      <td>172</td>\n",
       "      <td>0</td>\n",
       "      <td>0.0</td>\n",
       "      <td>Upsloping</td>\n",
       "      <td>0</td>\n",
       "    </tr>\n",
       "    <tr>\n",
       "      <th>1</th>\n",
       "      <td>49</td>\n",
       "      <td>female</td>\n",
       "      <td>Non Angina Pain</td>\n",
       "      <td>160</td>\n",
       "      <td>180</td>\n",
       "      <td>0</td>\n",
       "      <td>Normal</td>\n",
       "      <td>156</td>\n",
       "      <td>0</td>\n",
       "      <td>1.0</td>\n",
       "      <td>Flat</td>\n",
       "      <td>1</td>\n",
       "    </tr>\n",
       "    <tr>\n",
       "      <th>2</th>\n",
       "      <td>37</td>\n",
       "      <td>male</td>\n",
       "      <td>aTypical Angina</td>\n",
       "      <td>130</td>\n",
       "      <td>283</td>\n",
       "      <td>0</td>\n",
       "      <td>ST-T wave abnormility</td>\n",
       "      <td>98</td>\n",
       "      <td>0</td>\n",
       "      <td>0.0</td>\n",
       "      <td>Upsloping</td>\n",
       "      <td>0</td>\n",
       "    </tr>\n",
       "    <tr>\n",
       "      <th>3</th>\n",
       "      <td>48</td>\n",
       "      <td>female</td>\n",
       "      <td>Asymptotic</td>\n",
       "      <td>138</td>\n",
       "      <td>214</td>\n",
       "      <td>0</td>\n",
       "      <td>Normal</td>\n",
       "      <td>108</td>\n",
       "      <td>1</td>\n",
       "      <td>1.5</td>\n",
       "      <td>Flat</td>\n",
       "      <td>1</td>\n",
       "    </tr>\n",
       "    <tr>\n",
       "      <th>4</th>\n",
       "      <td>54</td>\n",
       "      <td>male</td>\n",
       "      <td>Non Angina Pain</td>\n",
       "      <td>150</td>\n",
       "      <td>195</td>\n",
       "      <td>0</td>\n",
       "      <td>Normal</td>\n",
       "      <td>122</td>\n",
       "      <td>0</td>\n",
       "      <td>0.0</td>\n",
       "      <td>Upsloping</td>\n",
       "      <td>0</td>\n",
       "    </tr>\n",
       "    <tr>\n",
       "      <th>...</th>\n",
       "      <td>...</td>\n",
       "      <td>...</td>\n",
       "      <td>...</td>\n",
       "      <td>...</td>\n",
       "      <td>...</td>\n",
       "      <td>...</td>\n",
       "      <td>...</td>\n",
       "      <td>...</td>\n",
       "      <td>...</td>\n",
       "      <td>...</td>\n",
       "      <td>...</td>\n",
       "      <td>...</td>\n",
       "    </tr>\n",
       "    <tr>\n",
       "      <th>1185</th>\n",
       "      <td>45</td>\n",
       "      <td>male</td>\n",
       "      <td>Typical Angina</td>\n",
       "      <td>110</td>\n",
       "      <td>264</td>\n",
       "      <td>0</td>\n",
       "      <td>Normal</td>\n",
       "      <td>132</td>\n",
       "      <td>0</td>\n",
       "      <td>1.2</td>\n",
       "      <td>Flat</td>\n",
       "      <td>1</td>\n",
       "    </tr>\n",
       "    <tr>\n",
       "      <th>1186</th>\n",
       "      <td>68</td>\n",
       "      <td>male</td>\n",
       "      <td>Asymptotic</td>\n",
       "      <td>144</td>\n",
       "      <td>193</td>\n",
       "      <td>1</td>\n",
       "      <td>Normal</td>\n",
       "      <td>141</td>\n",
       "      <td>0</td>\n",
       "      <td>3.4</td>\n",
       "      <td>Flat</td>\n",
       "      <td>1</td>\n",
       "    </tr>\n",
       "    <tr>\n",
       "      <th>1187</th>\n",
       "      <td>57</td>\n",
       "      <td>male</td>\n",
       "      <td>Asymptotic</td>\n",
       "      <td>130</td>\n",
       "      <td>131</td>\n",
       "      <td>0</td>\n",
       "      <td>Normal</td>\n",
       "      <td>115</td>\n",
       "      <td>1</td>\n",
       "      <td>1.2</td>\n",
       "      <td>Flat</td>\n",
       "      <td>1</td>\n",
       "    </tr>\n",
       "    <tr>\n",
       "      <th>1188</th>\n",
       "      <td>57</td>\n",
       "      <td>female</td>\n",
       "      <td>aTypical Angina</td>\n",
       "      <td>130</td>\n",
       "      <td>236</td>\n",
       "      <td>0</td>\n",
       "      <td>Left Ventrical hypertropy</td>\n",
       "      <td>174</td>\n",
       "      <td>0</td>\n",
       "      <td>0.0</td>\n",
       "      <td>Flat</td>\n",
       "      <td>1</td>\n",
       "    </tr>\n",
       "    <tr>\n",
       "      <th>1189</th>\n",
       "      <td>38</td>\n",
       "      <td>male</td>\n",
       "      <td>Non Angina Pain</td>\n",
       "      <td>138</td>\n",
       "      <td>175</td>\n",
       "      <td>0</td>\n",
       "      <td>Normal</td>\n",
       "      <td>173</td>\n",
       "      <td>0</td>\n",
       "      <td>0.0</td>\n",
       "      <td>Upsloping</td>\n",
       "      <td>0</td>\n",
       "    </tr>\n",
       "  </tbody>\n",
       "</table>\n",
       "<p>1190 rows × 12 columns</p>\n",
       "</div>"
      ],
      "text/plain": [
       "      age     sex  chest_pain_type  resting_blood_pressure  cholestrol  \\\n",
       "0      40    male  aTypical Angina                     140         289   \n",
       "1      49  female  Non Angina Pain                     160         180   \n",
       "2      37    male  aTypical Angina                     130         283   \n",
       "3      48  female       Asymptotic                     138         214   \n",
       "4      54    male  Non Angina Pain                     150         195   \n",
       "...   ...     ...              ...                     ...         ...   \n",
       "1185   45    male   Typical Angina                     110         264   \n",
       "1186   68    male       Asymptotic                     144         193   \n",
       "1187   57    male       Asymptotic                     130         131   \n",
       "1188   57  female  aTypical Angina                     130         236   \n",
       "1189   38    male  Non Angina Pain                     138         175   \n",
       "\n",
       "      fasting_blood_sugar                Resting_ecg  Max_Heart_rate  \\\n",
       "0                       0                     Normal             172   \n",
       "1                       0                     Normal             156   \n",
       "2                       0      ST-T wave abnormility              98   \n",
       "3                       0                     Normal             108   \n",
       "4                       0                     Normal             122   \n",
       "...                   ...                        ...             ...   \n",
       "1185                    0                     Normal             132   \n",
       "1186                    1                     Normal             141   \n",
       "1187                    0                     Normal             115   \n",
       "1188                    0  Left Ventrical hypertropy             174   \n",
       "1189                    0                     Normal             173   \n",
       "\n",
       "      exercise_induced_angina  st_depression   st_slope  target  \n",
       "0                           0            0.0  Upsloping       0  \n",
       "1                           0            1.0       Flat       1  \n",
       "2                           0            0.0  Upsloping       0  \n",
       "3                           1            1.5       Flat       1  \n",
       "4                           0            0.0  Upsloping       0  \n",
       "...                       ...            ...        ...     ...  \n",
       "1185                        0            1.2       Flat       1  \n",
       "1186                        0            3.4       Flat       1  \n",
       "1187                        1            1.2       Flat       1  \n",
       "1188                        0            0.0       Flat       1  \n",
       "1189                        0            0.0  Upsloping       0  \n",
       "\n",
       "[1190 rows x 12 columns]"
      ]
     },
     "execution_count": 20,
     "metadata": {},
     "output_type": "execute_result"
    }
   ],
   "source": [
    "dt"
   ]
  },
  {
   "cell_type": "code",
   "execution_count": 21,
   "id": "f26a8ae2",
   "metadata": {},
   "outputs": [
    {
     "data": {
      "text/plain": [
       "Asymptotic         625\n",
       "Non Angina Pain    283\n",
       "aTypical Angina    216\n",
       "Typical Angina      66\n",
       "Name: chest_pain_type, dtype: int64"
      ]
     },
     "execution_count": 21,
     "metadata": {},
     "output_type": "execute_result"
    }
   ],
   "source": [
    "dt['chest_pain_type'].value_counts()"
   ]
  },
  {
   "cell_type": "code",
   "execution_count": 22,
   "id": "9975ac23",
   "metadata": {},
   "outputs": [
    {
     "data": {
      "text/plain": [
       "Normal                       684\n",
       "Left Ventrical hypertropy    325\n",
       "ST-T wave abnormility        181\n",
       "Name: Resting_ecg, dtype: int64"
      ]
     },
     "execution_count": 22,
     "metadata": {},
     "output_type": "execute_result"
    }
   ],
   "source": [
    "dt['Resting_ecg'].value_counts()"
   ]
  },
  {
   "cell_type": "code",
   "execution_count": 23,
   "id": "b7c83c1f",
   "metadata": {},
   "outputs": [
    {
     "data": {
      "text/plain": [
       "Flat           582\n",
       "Upsloping      526\n",
       "Downsloping     81\n",
       "0                1\n",
       "Name: st_slope, dtype: int64"
      ]
     },
     "execution_count": 23,
     "metadata": {},
     "output_type": "execute_result"
    }
   ],
   "source": [
    "dt['st_slope'].value_counts()"
   ]
  },
  {
   "cell_type": "code",
   "execution_count": 24,
   "id": "3d98a049",
   "metadata": {},
   "outputs": [],
   "source": [
    "#Droping row with st_slope=0\n",
    "dt.drop(dt[dt.st_slope==0].index,inplace=True)"
   ]
  },
  {
   "cell_type": "code",
   "execution_count": 25,
   "id": "f6b00629",
   "metadata": {},
   "outputs": [
    {
     "data": {
      "text/plain": [
       "Flat           582\n",
       "Upsloping      526\n",
       "Downsloping     81\n",
       "Name: st_slope, dtype: int64"
      ]
     },
     "execution_count": 25,
     "metadata": {},
     "output_type": "execute_result"
    }
   ],
   "source": [
    "dt['st_slope'].value_counts()"
   ]
  },
  {
   "cell_type": "code",
   "execution_count": 26,
   "id": "7fe4afc9",
   "metadata": {},
   "outputs": [
    {
     "data": {
      "text/html": [
       "<div>\n",
       "<style scoped>\n",
       "    .dataframe tbody tr th:only-of-type {\n",
       "        vertical-align: middle;\n",
       "    }\n",
       "\n",
       "    .dataframe tbody tr th {\n",
       "        vertical-align: top;\n",
       "    }\n",
       "\n",
       "    .dataframe thead th {\n",
       "        text-align: right;\n",
       "    }\n",
       "</style>\n",
       "<table border=\"1\" class=\"dataframe\">\n",
       "  <thead>\n",
       "    <tr style=\"text-align: right;\">\n",
       "      <th></th>\n",
       "      <th>age</th>\n",
       "      <th>sex</th>\n",
       "      <th>chest_pain_type</th>\n",
       "      <th>resting_blood_pressure</th>\n",
       "      <th>cholestrol</th>\n",
       "      <th>fasting_blood_sugar</th>\n",
       "      <th>Resting_ecg</th>\n",
       "      <th>Max_Heart_rate</th>\n",
       "      <th>exercise_induced_angina</th>\n",
       "      <th>st_depression</th>\n",
       "      <th>st_slope</th>\n",
       "      <th>target</th>\n",
       "    </tr>\n",
       "  </thead>\n",
       "  <tbody>\n",
       "    <tr>\n",
       "      <th>0</th>\n",
       "      <td>40</td>\n",
       "      <td>male</td>\n",
       "      <td>aTypical Angina</td>\n",
       "      <td>140</td>\n",
       "      <td>289</td>\n",
       "      <td>0</td>\n",
       "      <td>Normal</td>\n",
       "      <td>172</td>\n",
       "      <td>0</td>\n",
       "      <td>0.0</td>\n",
       "      <td>Upsloping</td>\n",
       "      <td>0</td>\n",
       "    </tr>\n",
       "    <tr>\n",
       "      <th>1</th>\n",
       "      <td>49</td>\n",
       "      <td>female</td>\n",
       "      <td>Non Angina Pain</td>\n",
       "      <td>160</td>\n",
       "      <td>180</td>\n",
       "      <td>0</td>\n",
       "      <td>Normal</td>\n",
       "      <td>156</td>\n",
       "      <td>0</td>\n",
       "      <td>1.0</td>\n",
       "      <td>Flat</td>\n",
       "      <td>1</td>\n",
       "    </tr>\n",
       "    <tr>\n",
       "      <th>2</th>\n",
       "      <td>37</td>\n",
       "      <td>male</td>\n",
       "      <td>aTypical Angina</td>\n",
       "      <td>130</td>\n",
       "      <td>283</td>\n",
       "      <td>0</td>\n",
       "      <td>ST-T wave abnormility</td>\n",
       "      <td>98</td>\n",
       "      <td>0</td>\n",
       "      <td>0.0</td>\n",
       "      <td>Upsloping</td>\n",
       "      <td>0</td>\n",
       "    </tr>\n",
       "    <tr>\n",
       "      <th>3</th>\n",
       "      <td>48</td>\n",
       "      <td>female</td>\n",
       "      <td>Asymptotic</td>\n",
       "      <td>138</td>\n",
       "      <td>214</td>\n",
       "      <td>0</td>\n",
       "      <td>Normal</td>\n",
       "      <td>108</td>\n",
       "      <td>1</td>\n",
       "      <td>1.5</td>\n",
       "      <td>Flat</td>\n",
       "      <td>1</td>\n",
       "    </tr>\n",
       "    <tr>\n",
       "      <th>4</th>\n",
       "      <td>54</td>\n",
       "      <td>male</td>\n",
       "      <td>Non Angina Pain</td>\n",
       "      <td>150</td>\n",
       "      <td>195</td>\n",
       "      <td>0</td>\n",
       "      <td>Normal</td>\n",
       "      <td>122</td>\n",
       "      <td>0</td>\n",
       "      <td>0.0</td>\n",
       "      <td>Upsloping</td>\n",
       "      <td>0</td>\n",
       "    </tr>\n",
       "  </tbody>\n",
       "</table>\n",
       "</div>"
      ],
      "text/plain": [
       "   age     sex  chest_pain_type  resting_blood_pressure  cholestrol  \\\n",
       "0   40    male  aTypical Angina                     140         289   \n",
       "1   49  female  Non Angina Pain                     160         180   \n",
       "2   37    male  aTypical Angina                     130         283   \n",
       "3   48  female       Asymptotic                     138         214   \n",
       "4   54    male  Non Angina Pain                     150         195   \n",
       "\n",
       "   fasting_blood_sugar            Resting_ecg  Max_Heart_rate  \\\n",
       "0                    0                 Normal             172   \n",
       "1                    0                 Normal             156   \n",
       "2                    0  ST-T wave abnormility              98   \n",
       "3                    0                 Normal             108   \n",
       "4                    0                 Normal             122   \n",
       "\n",
       "   exercise_induced_angina  st_depression   st_slope  target  \n",
       "0                        0            0.0  Upsloping       0  \n",
       "1                        0            1.0       Flat       1  \n",
       "2                        0            0.0  Upsloping       0  \n",
       "3                        1            1.5       Flat       1  \n",
       "4                        0            0.0  Upsloping       0  "
      ]
     },
     "execution_count": 26,
     "metadata": {},
     "output_type": "execute_result"
    }
   ],
   "source": [
    "dt.head()"
   ]
  },
  {
   "cell_type": "code",
   "execution_count": 27,
   "id": "5d36c033",
   "metadata": {},
   "outputs": [
    {
     "data": {
      "text/plain": [
       "age                        0\n",
       "sex                        0\n",
       "chest_pain_type            0\n",
       "resting_blood_pressure     0\n",
       "cholestrol                 0\n",
       "fasting_blood_sugar        0\n",
       "Resting_ecg                0\n",
       "Max_Heart_rate             0\n",
       "exercise_induced_angina    0\n",
       "st_depression              0\n",
       "st_slope                   0\n",
       "target                     0\n",
       "dtype: int64"
      ]
     },
     "execution_count": 27,
     "metadata": {},
     "output_type": "execute_result"
    }
   ],
   "source": [
    "dt.isna().sum()"
   ]
  },
  {
   "cell_type": "markdown",
   "id": "30d6bea1",
   "metadata": {},
   "source": [
    "# Exploratory Data Analysis"
   ]
  },
  {
   "cell_type": "code",
   "execution_count": 28,
   "id": "fd1cd22e",
   "metadata": {},
   "outputs": [
    {
     "data": {
      "text/plain": [
       "(1189, 12)"
      ]
     },
     "execution_count": 28,
     "metadata": {},
     "output_type": "execute_result"
    }
   ],
   "source": [
    "dt.shape"
   ]
  },
  {
   "cell_type": "code",
   "execution_count": 29,
   "id": "8c045dca",
   "metadata": {},
   "outputs": [
    {
     "data": {
      "text/html": [
       "<div>\n",
       "<style scoped>\n",
       "    .dataframe tbody tr th:only-of-type {\n",
       "        vertical-align: middle;\n",
       "    }\n",
       "\n",
       "    .dataframe tbody tr th {\n",
       "        vertical-align: top;\n",
       "    }\n",
       "\n",
       "    .dataframe thead th {\n",
       "        text-align: right;\n",
       "    }\n",
       "</style>\n",
       "<table border=\"1\" class=\"dataframe\">\n",
       "  <thead>\n",
       "    <tr style=\"text-align: right;\">\n",
       "      <th></th>\n",
       "      <th>age</th>\n",
       "      <th>resting_blood_pressure</th>\n",
       "      <th>cholestrol</th>\n",
       "      <th>fasting_blood_sugar</th>\n",
       "      <th>Max_Heart_rate</th>\n",
       "      <th>exercise_induced_angina</th>\n",
       "      <th>st_depression</th>\n",
       "      <th>target</th>\n",
       "    </tr>\n",
       "  </thead>\n",
       "  <tbody>\n",
       "    <tr>\n",
       "      <th>count</th>\n",
       "      <td>1189.000000</td>\n",
       "      <td>1189.000000</td>\n",
       "      <td>1189.000000</td>\n",
       "      <td>1189.000000</td>\n",
       "      <td>1189.000000</td>\n",
       "      <td>1189.000000</td>\n",
       "      <td>1189.000000</td>\n",
       "      <td>1189.000000</td>\n",
       "    </tr>\n",
       "    <tr>\n",
       "      <th>mean</th>\n",
       "      <td>53.708158</td>\n",
       "      <td>132.138772</td>\n",
       "      <td>210.376787</td>\n",
       "      <td>0.212784</td>\n",
       "      <td>139.739277</td>\n",
       "      <td>0.387721</td>\n",
       "      <td>0.923549</td>\n",
       "      <td>0.528175</td>\n",
       "    </tr>\n",
       "    <tr>\n",
       "      <th>std</th>\n",
       "      <td>9.352961</td>\n",
       "      <td>18.369251</td>\n",
       "      <td>101.462185</td>\n",
       "      <td>0.409448</td>\n",
       "      <td>25.527386</td>\n",
       "      <td>0.487435</td>\n",
       "      <td>1.086464</td>\n",
       "      <td>0.499416</td>\n",
       "    </tr>\n",
       "    <tr>\n",
       "      <th>min</th>\n",
       "      <td>28.000000</td>\n",
       "      <td>0.000000</td>\n",
       "      <td>0.000000</td>\n",
       "      <td>0.000000</td>\n",
       "      <td>60.000000</td>\n",
       "      <td>0.000000</td>\n",
       "      <td>-2.600000</td>\n",
       "      <td>0.000000</td>\n",
       "    </tr>\n",
       "    <tr>\n",
       "      <th>25%</th>\n",
       "      <td>47.000000</td>\n",
       "      <td>120.000000</td>\n",
       "      <td>188.000000</td>\n",
       "      <td>0.000000</td>\n",
       "      <td>121.000000</td>\n",
       "      <td>0.000000</td>\n",
       "      <td>0.000000</td>\n",
       "      <td>0.000000</td>\n",
       "    </tr>\n",
       "    <tr>\n",
       "      <th>50%</th>\n",
       "      <td>54.000000</td>\n",
       "      <td>130.000000</td>\n",
       "      <td>229.000000</td>\n",
       "      <td>0.000000</td>\n",
       "      <td>141.000000</td>\n",
       "      <td>0.000000</td>\n",
       "      <td>0.600000</td>\n",
       "      <td>1.000000</td>\n",
       "    </tr>\n",
       "    <tr>\n",
       "      <th>75%</th>\n",
       "      <td>60.000000</td>\n",
       "      <td>140.000000</td>\n",
       "      <td>270.000000</td>\n",
       "      <td>0.000000</td>\n",
       "      <td>160.000000</td>\n",
       "      <td>1.000000</td>\n",
       "      <td>1.600000</td>\n",
       "      <td>1.000000</td>\n",
       "    </tr>\n",
       "    <tr>\n",
       "      <th>max</th>\n",
       "      <td>77.000000</td>\n",
       "      <td>200.000000</td>\n",
       "      <td>603.000000</td>\n",
       "      <td>1.000000</td>\n",
       "      <td>202.000000</td>\n",
       "      <td>1.000000</td>\n",
       "      <td>6.200000</td>\n",
       "      <td>1.000000</td>\n",
       "    </tr>\n",
       "  </tbody>\n",
       "</table>\n",
       "</div>"
      ],
      "text/plain": [
       "               age  resting_blood_pressure   cholestrol  fasting_blood_sugar  \\\n",
       "count  1189.000000             1189.000000  1189.000000          1189.000000   \n",
       "mean     53.708158              132.138772   210.376787             0.212784   \n",
       "std       9.352961               18.369251   101.462185             0.409448   \n",
       "min      28.000000                0.000000     0.000000             0.000000   \n",
       "25%      47.000000              120.000000   188.000000             0.000000   \n",
       "50%      54.000000              130.000000   229.000000             0.000000   \n",
       "75%      60.000000              140.000000   270.000000             0.000000   \n",
       "max      77.000000              200.000000   603.000000             1.000000   \n",
       "\n",
       "       Max_Heart_rate  exercise_induced_angina  st_depression       target  \n",
       "count     1189.000000              1189.000000    1189.000000  1189.000000  \n",
       "mean       139.739277                 0.387721       0.923549     0.528175  \n",
       "std         25.527386                 0.487435       1.086464     0.499416  \n",
       "min         60.000000                 0.000000      -2.600000     0.000000  \n",
       "25%        121.000000                 0.000000       0.000000     0.000000  \n",
       "50%        141.000000                 0.000000       0.600000     1.000000  \n",
       "75%        160.000000                 1.000000       1.600000     1.000000  \n",
       "max        202.000000                 1.000000       6.200000     1.000000  "
      ]
     },
     "execution_count": 29,
     "metadata": {},
     "output_type": "execute_result"
    }
   ],
   "source": [
    "dt.describe(include=[np.number])"
   ]
  },
  {
   "cell_type": "code",
   "execution_count": 30,
   "id": "4fc2c31d",
   "metadata": {},
   "outputs": [
    {
     "data": {
      "text/plain": [
       "<AxesSubplot:xlabel='sex', ylabel='target'>"
      ]
     },
     "execution_count": 30,
     "metadata": {},
     "output_type": "execute_result"
    },
    {
     "data": {
      "image/png": "[encoded data removed]",
      "text/plain": [
       "<Figure size 432x288 with 1 Axes>"
      ]
     },
     "metadata": {
      "needs_background": "light"
     },
     "output_type": "display_data"
    }
   ],
   "source": [
    "sns.barplot(dt['sex'],dt['target'])"
   ]
  },
  {
   "cell_type": "code",
   "execution_count": 31,
   "id": "14b9102d",
   "metadata": {},
   "outputs": [
    {
     "data": {
      "text/plain": [
       "<AxesSubplot:xlabel='sex', ylabel='age'>"
      ]
     },
     "execution_count": 31,
     "metadata": {},
     "output_type": "execute_result"
    },
    {
     "data": {
      "image/png": "[encoded data removed]",
      "text/plain": [
       "<Figure size 432x288 with 1 Axes>"
      ]
     },
     "metadata": {
      "needs_background": "light"
     },
     "output_type": "display_data"
    }
   ],
   "source": [
    "sns.barplot(dt['sex'],dt['age'],hue=dt['target'])"
   ]
  },
  {
   "cell_type": "code",
   "execution_count": 32,
   "id": "1483cc11",
   "metadata": {},
   "outputs": [
    {
     "data": {
      "image/png": "[encoded data removed]",
      "text/plain": [
       "<Figure size 1008x720 with 2 Axes>"
      ]
     },
     "metadata": {
      "needs_background": "light"
     },
     "output_type": "display_data"
    }
   ],
   "source": [
    "plt.figure(figsize=(14,10))\n",
    "sns.heatmap(dt.corr(),cmap='Purples',annot=True,linecolor='Green', linewidth=1.0)\n",
    "plt.show()"
   ]
  },
  {
   "cell_type": "code",
   "execution_count": 33,
   "id": "3f9f9efe",
   "metadata": {},
   "outputs": [
    {
     "data": {
      "text/plain": [
       "<AxesSubplot:xlabel='age'>"
      ]
     },
     "execution_count": 33,
     "metadata": {},
     "output_type": "execute_result"
    },
    {
     "data": {
      "image/png": "[encoded data removed]",
      "text/plain": [
       "<Figure size 1440x432 with 1 Axes>"
      ]
     },
     "metadata": {
      "needs_background": "light"
     },
     "output_type": "display_data"
    }
   ],
   "source": [
    "pd.crosstab(dt.age,dt.target).plot(kind='bar',figsize=(20,6))"
   ]
  },
  {
   "cell_type": "code",
   "execution_count": 34,
   "id": "4c424475",
   "metadata": {},
   "outputs": [
    {
     "data": {
      "text/html": [
       "<div>\n",
       "<style scoped>\n",
       "    .dataframe tbody tr th:only-of-type {\n",
       "        vertical-align: middle;\n",
       "    }\n",
       "\n",
       "    .dataframe tbody tr th {\n",
       "        vertical-align: top;\n",
       "    }\n",
       "\n",
       "    .dataframe thead th {\n",
       "        text-align: right;\n",
       "    }\n",
       "</style>\n",
       "<table border=\"1\" class=\"dataframe\">\n",
       "  <thead>\n",
       "    <tr style=\"text-align: right;\">\n",
       "      <th></th>\n",
       "      <th>sex</th>\n",
       "      <th>chest_pain_type</th>\n",
       "      <th>Resting_ecg</th>\n",
       "      <th>st_slope</th>\n",
       "    </tr>\n",
       "  </thead>\n",
       "  <tbody>\n",
       "    <tr>\n",
       "      <th>count</th>\n",
       "      <td>1189</td>\n",
       "      <td>1189</td>\n",
       "      <td>1189</td>\n",
       "      <td>1189</td>\n",
       "    </tr>\n",
       "    <tr>\n",
       "      <th>unique</th>\n",
       "      <td>2</td>\n",
       "      <td>4</td>\n",
       "      <td>3</td>\n",
       "      <td>3</td>\n",
       "    </tr>\n",
       "    <tr>\n",
       "      <th>top</th>\n",
       "      <td>male</td>\n",
       "      <td>Asymptotic</td>\n",
       "      <td>Normal</td>\n",
       "      <td>Flat</td>\n",
       "    </tr>\n",
       "    <tr>\n",
       "      <th>freq</th>\n",
       "      <td>908</td>\n",
       "      <td>625</td>\n",
       "      <td>683</td>\n",
       "      <td>582</td>\n",
       "    </tr>\n",
       "  </tbody>\n",
       "</table>\n",
       "</div>"
      ],
      "text/plain": [
       "         sex chest_pain_type Resting_ecg st_slope\n",
       "count   1189            1189        1189     1189\n",
       "unique     2               4           3        3\n",
       "top     male      Asymptotic      Normal     Flat\n",
       "freq     908             625         683      582"
      ]
     },
     "execution_count": 34,
     "metadata": {},
     "output_type": "execute_result"
    }
   ],
   "source": [
    "dt.describe(include=[np.object])"
   ]
  },
  {
   "cell_type": "code",
   "execution_count": 35,
   "id": "8d1f7309",
   "metadata": {},
   "outputs": [
    {
     "data": {
      "image/png": "[encoded data removed]",
      "text/plain": [
       "<Figure size 1008x1152 with 2 Axes>"
      ]
     },
     "metadata": {
      "needs_background": "light"
     },
     "output_type": "display_data"
    }
   ],
   "source": [
    "fig,(axis1,axis2)=plt.subplots(nrows=1,ncols=2,sharey=False,figsize=(14,16))\n",
    "axis1=dt['target'].value_counts().plot.pie(x=\"Heart Disease\",y=\"No. of Pateints\",autopct='%1.0f%%',labels=['Heart Disease', \"Normal\"], startangle=60,ax=axis1)\n",
    "axis1.set(title=\"Percentage of Heart Disease Patients in Dataset\")\n",
    "\n",
    "axis2=dt['target'].value_counts().plot(kind='barh',ax=axis2)\n",
    "for i,j in enumerate(dt['target'].value_counts().values):\n",
    "    axis2.text(.5,i,j,fontsize=12)\n",
    "axis2.set(title=\"No. of Heart Disease Patients in Dataset\")\n",
    "plt.show()"
   ]
  },
  {
   "cell_type": "code",
   "execution_count": 36,
   "id": "260e8dc3",
   "metadata": {},
   "outputs": [
    {
     "data": {
      "image/png": "[encoded data removed]",
      "text/plain": [
       "<Figure size 1296x864 with 2 Axes>"
      ]
     },
     "metadata": {
      "needs_background": "light"
     },
     "output_type": "display_data"
    }
   ],
   "source": [
    "plt.figure(figsize=(18,12))\n",
    "plt.subplot(221)\n",
    "dt['sex'].value_counts().plot.pie(autopct='%1.0f%%',colors=sns.color_palette(\"prism\",5),startangle=6,\n",
    "                                 wedgeprops={\"linewidth\":2,\"edgecolor\":\"k\"},explode=[.1,.1],shadow=True)\n",
    "plt.title(\"Distribution of Gender\")\n",
    "plt.subplot(222)\n",
    "ax=sns.distplot(dt['age'],rug=True)\n",
    "plt.title(\"Age Wise Distribution\")\n",
    "plt.show()"
   ]
  },
  {
   "cell_type": "code",
   "execution_count": 37,
   "id": "3bf3c284",
   "metadata": {},
   "outputs": [],
   "source": [
    "attr_1=dt[dt[\"target\"]==1]\n",
    "attr_0=dt[dt[\"target\"]==0]"
   ]
  },
  {
   "cell_type": "code",
   "execution_count": 38,
   "id": "260f1289",
   "metadata": {},
   "outputs": [
    {
     "data": {
      "image/png": "[encoded data removed]",
      "text/plain": [
       "<Figure size 1080x360 with 2 Axes>"
      ]
     },
     "metadata": {
      "needs_background": "light"
     },
     "output_type": "display_data"
    },
    {
     "data": {
      "image/png": "[encoded data removed]",
      "text/plain": [
       "<Figure size 1080x360 with 1 Axes>"
      ]
     },
     "metadata": {
      "needs_background": "light"
     },
     "output_type": "display_data"
    },
    {
     "data": {
      "image/png": "[encoded data removed]",
      "text/plain": [
       "<Figure size 432x288 with 1 Axes>"
      ]
     },
     "metadata": {
      "needs_background": "light"
     },
     "output_type": "display_data"
    }
   ],
   "source": [
    "#Plotting normal Patients\n",
    "fig=plt.figure(figsize=(15,5))\n",
    "ax1=plt.subplot2grid((1,2),(0,0))\n",
    "sns.distplot(attr_0['age'])\n",
    "plt.title('Age Distribution of Normal Patients',fontsize=10,weight='bold')\n",
    "\n",
    "ax1=plt.subplot2grid((1,2),(0,1))\n",
    "sns.countplot(attr_0['sex'],palette='viridis')\n",
    "plt.title(\"Gender Distribution of Normal Patients\",fontsize=10,weight=\"bold\")\n",
    "plt.show()\n",
    "# plotting heart patients\n",
    "fig=plt.figure(figsize=(15,5))\n",
    "ax1=plt.subplot2grid((1,2),(0,0))\n",
    "sns.distplot(attr_1['age'])\n",
    "plt.title(\"Age Distribution of Heart Disease Patients\",fontsize=10,weight=\"bold\")\n",
    "plt.show()\n",
    "\n",
    "ax1=plt.subplot2grid((1,2),(0,1))\n",
    "sns.countplot(attr_1['sex'],palette='viridis')\n",
    "plt.title(\"Gender Distribution of Heart Disease Patients\",fontsize=10,weight=\"bold\")\n",
    "plt.show()"
   ]
  },
  {
   "cell_type": "markdown",
   "id": "e4ec66e7",
   "metadata": {},
   "source": [
    "# Distribution of Chest pain Types"
   ]
  },
  {
   "cell_type": "code",
   "execution_count": 39,
   "id": "81d38ddf",
   "metadata": {},
   "outputs": [
    {
     "data": {
      "image/png": "[encoded data removed]",
      "text/plain": [
       "<Figure size 1080x360 with 2 Axes>"
      ]
     },
     "metadata": {
      "needs_background": "light"
     },
     "output_type": "display_data"
    }
   ],
   "source": [
    "fig=plt.figure(figsize=(15,5))\n",
    "ax1=plt.subplot2grid((1,2),(0,0))\n",
    "sns.countplot(attr_0['chest_pain_type'])\n",
    "plt.title('Chest Pain of Normal Patients',fontsize=10,weight='bold')\n",
    "\n",
    "ax1=plt.subplot2grid((1,2),(0,1))\n",
    "sns.countplot(attr_1['chest_pain_type'],palette='viridis')\n",
    "plt.title(\"Chest Pain of Normal Patients\",fontsize=10,weight=\"bold\")\n",
    "plt.show()"
   ]
  },
  {
   "cell_type": "code",
   "execution_count": 40,
   "id": "2d72947a",
   "metadata": {},
   "outputs": [
    {
     "data": {
      "text/html": [
       "<div>\n",
       "<style scoped>\n",
       "    .dataframe tbody tr th:only-of-type {\n",
       "        vertical-align: middle;\n",
       "    }\n",
       "\n",
       "    .dataframe tbody tr th {\n",
       "        vertical-align: top;\n",
       "    }\n",
       "\n",
       "    .dataframe thead th {\n",
       "        text-align: right;\n",
       "    }\n",
       "</style>\n",
       "<table border=\"1\" class=\"dataframe\">\n",
       "  <thead>\n",
       "    <tr style=\"text-align: right;\">\n",
       "      <th>target</th>\n",
       "      <th>0</th>\n",
       "      <th>1</th>\n",
       "    </tr>\n",
       "    <tr>\n",
       "      <th>chest_pain_type</th>\n",
       "      <th></th>\n",
       "      <th></th>\n",
       "    </tr>\n",
       "  </thead>\n",
       "  <tbody>\n",
       "    <tr>\n",
       "      <th>Asymptotic</th>\n",
       "      <td>25.31</td>\n",
       "      <td>76.91</td>\n",
       "    </tr>\n",
       "    <tr>\n",
       "      <th>Non Angina Pain</th>\n",
       "      <td>34.40</td>\n",
       "      <td>14.17</td>\n",
       "    </tr>\n",
       "    <tr>\n",
       "      <th>Typical Angina</th>\n",
       "      <td>7.31</td>\n",
       "      <td>3.98</td>\n",
       "    </tr>\n",
       "    <tr>\n",
       "      <th>aTypical Angina</th>\n",
       "      <td>32.98</td>\n",
       "      <td>4.94</td>\n",
       "    </tr>\n",
       "  </tbody>\n",
       "</table>\n",
       "</div>"
      ],
      "text/plain": [
       "target               0      1\n",
       "chest_pain_type              \n",
       "Asymptotic       25.31  76.91\n",
       "Non Angina Pain  34.40  14.17\n",
       "Typical Angina    7.31   3.98\n",
       "aTypical Angina  32.98   4.94"
      ]
     },
     "execution_count": 40,
     "metadata": {},
     "output_type": "execute_result"
    }
   ],
   "source": [
    "# Exploring the heart Disease Patients based on chest pain\n",
    "plot_criteria=['chest_pain_type','target']\n",
    "cm=sns.light_palette('red',as_cmap=True)\n",
    "(round(pd.crosstab(dt[plot_criteria[0]],dt[plot_criteria[1]],normalize='columns')*100,2))"
   ]
  },
  {
   "cell_type": "markdown",
   "id": "1e1d4ec9",
   "metadata": {},
   "source": [
    "# Distribution of Rest ECG"
   ]
  },
  {
   "cell_type": "code",
   "execution_count": 41,
   "id": "b9fe5ef1",
   "metadata": {},
   "outputs": [
    {
     "data": {
      "image/png": "[encoded data removed]",
      "text/plain": [
       "<Figure size 1080x360 with 2 Axes>"
      ]
     },
     "metadata": {
      "needs_background": "light"
     },
     "output_type": "display_data"
    }
   ],
   "source": [
    "#Plotting normal patients\n",
    "fig=plt.figure(figsize=(15,5))\n",
    "ax1=plt.subplot2grid((1,2),(0,0))\n",
    "sns.countplot(attr_0['Resting_ecg'])\n",
    "plt.title('Resting ECG of Normal Patients',fontsize=10,weight='bold')\n",
    "\n",
    "ax1=plt.subplot2grid((1,2),(0,1))\n",
    "sns.countplot(attr_1['Resting_ecg'],palette='viridis')\n",
    "plt.title(\"Resting ECG of Normal Patients\",fontsize=10,weight=\"bold\")\n",
    "plt.show()"
   ]
  },
  {
   "cell_type": "code",
   "execution_count": 42,
   "id": "a55da335",
   "metadata": {},
   "outputs": [],
   "source": [
    "#Exploring the Heart Diesease Patients based on Rest ECG\n",
    "plot_criteria = ['Resting_ecg','target']"
   ]
  },
  {
   "cell_type": "code",
   "execution_count": 43,
   "id": "f4476dd1",
   "metadata": {},
   "outputs": [
    {
     "data": {
      "text/html": [
       "<div>\n",
       "<style scoped>\n",
       "    .dataframe tbody tr th:only-of-type {\n",
       "        vertical-align: middle;\n",
       "    }\n",
       "\n",
       "    .dataframe tbody tr th {\n",
       "        vertical-align: top;\n",
       "    }\n",
       "\n",
       "    .dataframe thead th {\n",
       "        text-align: right;\n",
       "    }\n",
       "</style>\n",
       "<table border=\"1\" class=\"dataframe\">\n",
       "  <thead>\n",
       "    <tr style=\"text-align: right;\">\n",
       "      <th>target</th>\n",
       "      <th>0</th>\n",
       "      <th>1</th>\n",
       "    </tr>\n",
       "    <tr>\n",
       "      <th>Resting_ecg</th>\n",
       "      <th></th>\n",
       "      <th></th>\n",
       "    </tr>\n",
       "  </thead>\n",
       "  <tbody>\n",
       "    <tr>\n",
       "      <th>Left Ventrical hypertropy</th>\n",
       "      <td>26.02</td>\n",
       "      <td>28.50</td>\n",
       "    </tr>\n",
       "    <tr>\n",
       "      <th>Normal</th>\n",
       "      <td>62.92</td>\n",
       "      <td>52.55</td>\n",
       "    </tr>\n",
       "    <tr>\n",
       "      <th>ST-T wave abnormility</th>\n",
       "      <td>11.05</td>\n",
       "      <td>18.95</td>\n",
       "    </tr>\n",
       "  </tbody>\n",
       "</table>\n",
       "</div>"
      ],
      "text/plain": [
       "target                         0      1\n",
       "Resting_ecg                            \n",
       "Left Ventrical hypertropy  26.02  28.50\n",
       "Normal                     62.92  52.55\n",
       "ST-T wave abnormility      11.05  18.95"
      ]
     },
     "execution_count": 43,
     "metadata": {},
     "output_type": "execute_result"
    }
   ],
   "source": [
    "cm=sns.light_palette('red',as_cmap=True)\n",
    "(round(pd.crosstab(dt[plot_criteria[0]],dt[plot_criteria[1]],normalize='columns')*100,2))"
   ]
  },
  {
   "cell_type": "markdown",
   "id": "447c789b",
   "metadata": {},
   "source": [
    "# Distribution St_Slope"
   ]
  },
  {
   "cell_type": "code",
   "execution_count": 44,
   "id": "1e849a4f",
   "metadata": {},
   "outputs": [
    {
     "data": {
      "image/png": "[encoded data removed]",
      "text/plain": [
       "<Figure size 1080x360 with 2 Axes>"
      ]
     },
     "metadata": {
      "needs_background": "light"
     },
     "output_type": "display_data"
    }
   ],
   "source": [
    "#Plotting normal patients\n",
    "fig=plt.figure(figsize=(15,5))\n",
    "ax1=plt.subplot2grid((1,2),(0,0))\n",
    "sns.countplot(attr_0['st_slope'])\n",
    "plt.title('ST Slope of Normal Patients',fontsize=10,weight='bold')\n",
    "\n",
    "ax1=plt.subplot2grid((1,2),(0,1))\n",
    "sns.countplot(attr_1['st_slope'],palette='viridis')\n",
    "plt.title(\"ST Slope of Normal Patients\",fontsize=10,weight=\"bold\")\n",
    "plt.show()"
   ]
  },
  {
   "cell_type": "code",
   "execution_count": 45,
   "id": "35bd85df",
   "metadata": {},
   "outputs": [
    {
     "data": {
      "text/html": [
       "<div>\n",
       "<style scoped>\n",
       "    .dataframe tbody tr th:only-of-type {\n",
       "        vertical-align: middle;\n",
       "    }\n",
       "\n",
       "    .dataframe tbody tr th {\n",
       "        vertical-align: top;\n",
       "    }\n",
       "\n",
       "    .dataframe thead th {\n",
       "        text-align: right;\n",
       "    }\n",
       "</style>\n",
       "<table border=\"1\" class=\"dataframe\">\n",
       "  <thead>\n",
       "    <tr style=\"text-align: right;\">\n",
       "      <th>target</th>\n",
       "      <th>0</th>\n",
       "      <th>1</th>\n",
       "    </tr>\n",
       "    <tr>\n",
       "      <th>st_slope</th>\n",
       "      <th></th>\n",
       "      <th></th>\n",
       "    </tr>\n",
       "  </thead>\n",
       "  <tbody>\n",
       "    <tr>\n",
       "      <th>Downsloping</th>\n",
       "      <td>3.92</td>\n",
       "      <td>9.39</td>\n",
       "    </tr>\n",
       "    <tr>\n",
       "      <th>Flat</th>\n",
       "      <td>21.93</td>\n",
       "      <td>73.09</td>\n",
       "    </tr>\n",
       "    <tr>\n",
       "      <th>Upsloping</th>\n",
       "      <td>74.15</td>\n",
       "      <td>17.52</td>\n",
       "    </tr>\n",
       "  </tbody>\n",
       "</table>\n",
       "</div>"
      ],
      "text/plain": [
       "target           0      1\n",
       "st_slope                 \n",
       "Downsloping   3.92   9.39\n",
       "Flat         21.93  73.09\n",
       "Upsloping    74.15  17.52"
      ]
     },
     "execution_count": 45,
     "metadata": {},
     "output_type": "execute_result"
    }
   ],
   "source": [
    "# Exploring the heart Disease Patients based on st_slope\n",
    "plot_criteria=['st_slope','target']\n",
    "cm=sns.light_palette('red',as_cmap=True)\n",
    "(round(pd.crosstab(dt[plot_criteria[0]],dt[plot_criteria[1]],normalize='columns')*100,2))"
   ]
  },
  {
   "cell_type": "markdown",
   "id": "d8ded6da",
   "metadata": {},
   "source": [
    "# Distribution of Numerical Features"
   ]
  },
  {
   "cell_type": "code",
   "execution_count": 46,
   "id": "6d99f88e",
   "metadata": {},
   "outputs": [
    {
     "data": {
      "text/plain": [
       "<seaborn.axisgrid.PairGrid at 0x24e3edf9bb0>"
      ]
     },
     "execution_count": 46,
     "metadata": {},
     "output_type": "execute_result"
    },
    {
     "data": {
      "image/png": "[encoded data removed]",
      "text/plain": [
       "<Figure size 582.375x540 with 12 Axes>"
      ]
     },
     "metadata": {
      "needs_background": "light"
     },
     "output_type": "display_data"
    }
   ],
   "source": [
    "sns.pairplot(dt,hue='target',vars=['age','resting_blood_pressure','cholestrol'])"
   ]
  },
  {
   "cell_type": "code",
   "execution_count": 47,
   "id": "1ab56a3f",
   "metadata": {},
   "outputs": [
    {
     "data": {
      "text/plain": [
       "<AxesSubplot:xlabel='resting_blood_pressure', ylabel='cholestrol'>"
      ]
     },
     "execution_count": 47,
     "metadata": {},
     "output_type": "execute_result"
    },
    {
     "data": {
      "image/png": "[encoded data removed]",
      "text/plain": [
       "<Figure size 432x288 with 1 Axes>"
      ]
     },
     "metadata": {
      "needs_background": "light"
     },
     "output_type": "display_data"
    }
   ],
   "source": [
    "sns.scatterplot(x='resting_blood_pressure', y=\"cholestrol\", hue='target', data=dt)"
   ]
  },
  {
   "cell_type": "code",
   "execution_count": 48,
   "id": "66b47439",
   "metadata": {},
   "outputs": [
    {
     "data": {
      "text/plain": [
       "<AxesSubplot:xlabel='resting_blood_pressure', ylabel='age'>"
      ]
     },
     "execution_count": 48,
     "metadata": {},
     "output_type": "execute_result"
    },
    {
     "data": {
      "image/png": "[encoded data removed]",
      "text/plain": [
       "<Figure size 432x288 with 1 Axes>"
      ]
     },
     "metadata": {
      "needs_background": "light"
     },
     "output_type": "display_data"
    }
   ],
   "source": [
    "sns.scatterplot(x='resting_blood_pressure', y=\"age\", hue='target', data=dt)"
   ]
  },
  {
   "cell_type": "markdown",
   "id": "4554948d",
   "metadata": {},
   "source": [
    "# Outlier Detection and Removal"
   ]
  },
  {
   "cell_type": "code",
   "execution_count": 49,
   "id": "a2c5000e",
   "metadata": {},
   "outputs": [
    {
     "data": {
      "text/plain": [
       "'z-score=((score or x)-mean)/Standard Deviation'"
      ]
     },
     "execution_count": 49,
     "metadata": {},
     "output_type": "execute_result"
    }
   ],
   "source": [
    "'''z-score=((score or x)-mean)/Standard Deviation'''"
   ]
  },
  {
   "cell_type": "code",
   "execution_count": 50,
   "id": "f6f807b9",
   "metadata": {},
   "outputs": [],
   "source": [
    "#Filtering numeric features as age, resting bp, cholesterol and max heart rate achieved has outliers\n",
    "dt_numeric=dt[['age','resting_blood_pressure','cholestrol','Max_Heart_rate']]"
   ]
  },
  {
   "cell_type": "code",
   "execution_count": 51,
   "id": "e9d17b16",
   "metadata": {},
   "outputs": [
    {
     "data": {
      "text/html": [
       "<div>\n",
       "<style scoped>\n",
       "    .dataframe tbody tr th:only-of-type {\n",
       "        vertical-align: middle;\n",
       "    }\n",
       "\n",
       "    .dataframe tbody tr th {\n",
       "        vertical-align: top;\n",
       "    }\n",
       "\n",
       "    .dataframe thead th {\n",
       "        text-align: right;\n",
       "    }\n",
       "</style>\n",
       "<table border=\"1\" class=\"dataframe\">\n",
       "  <thead>\n",
       "    <tr style=\"text-align: right;\">\n",
       "      <th></th>\n",
       "      <th>age</th>\n",
       "      <th>resting_blood_pressure</th>\n",
       "      <th>cholestrol</th>\n",
       "      <th>Max_Heart_rate</th>\n",
       "    </tr>\n",
       "  </thead>\n",
       "  <tbody>\n",
       "    <tr>\n",
       "      <th>0</th>\n",
       "      <td>40</td>\n",
       "      <td>140</td>\n",
       "      <td>289</td>\n",
       "      <td>172</td>\n",
       "    </tr>\n",
       "    <tr>\n",
       "      <th>1</th>\n",
       "      <td>49</td>\n",
       "      <td>160</td>\n",
       "      <td>180</td>\n",
       "      <td>156</td>\n",
       "    </tr>\n",
       "    <tr>\n",
       "      <th>2</th>\n",
       "      <td>37</td>\n",
       "      <td>130</td>\n",
       "      <td>283</td>\n",
       "      <td>98</td>\n",
       "    </tr>\n",
       "    <tr>\n",
       "      <th>3</th>\n",
       "      <td>48</td>\n",
       "      <td>138</td>\n",
       "      <td>214</td>\n",
       "      <td>108</td>\n",
       "    </tr>\n",
       "    <tr>\n",
       "      <th>4</th>\n",
       "      <td>54</td>\n",
       "      <td>150</td>\n",
       "      <td>195</td>\n",
       "      <td>122</td>\n",
       "    </tr>\n",
       "    <tr>\n",
       "      <th>...</th>\n",
       "      <td>...</td>\n",
       "      <td>...</td>\n",
       "      <td>...</td>\n",
       "      <td>...</td>\n",
       "    </tr>\n",
       "    <tr>\n",
       "      <th>1185</th>\n",
       "      <td>45</td>\n",
       "      <td>110</td>\n",
       "      <td>264</td>\n",
       "      <td>132</td>\n",
       "    </tr>\n",
       "    <tr>\n",
       "      <th>1186</th>\n",
       "      <td>68</td>\n",
       "      <td>144</td>\n",
       "      <td>193</td>\n",
       "      <td>141</td>\n",
       "    </tr>\n",
       "    <tr>\n",
       "      <th>1187</th>\n",
       "      <td>57</td>\n",
       "      <td>130</td>\n",
       "      <td>131</td>\n",
       "      <td>115</td>\n",
       "    </tr>\n",
       "    <tr>\n",
       "      <th>1188</th>\n",
       "      <td>57</td>\n",
       "      <td>130</td>\n",
       "      <td>236</td>\n",
       "      <td>174</td>\n",
       "    </tr>\n",
       "    <tr>\n",
       "      <th>1189</th>\n",
       "      <td>38</td>\n",
       "      <td>138</td>\n",
       "      <td>175</td>\n",
       "      <td>173</td>\n",
       "    </tr>\n",
       "  </tbody>\n",
       "</table>\n",
       "<p>1189 rows × 4 columns</p>\n",
       "</div>"
      ],
      "text/plain": [
       "      age  resting_blood_pressure  cholestrol  Max_Heart_rate\n",
       "0      40                     140         289             172\n",
       "1      49                     160         180             156\n",
       "2      37                     130         283              98\n",
       "3      48                     138         214             108\n",
       "4      54                     150         195             122\n",
       "...   ...                     ...         ...             ...\n",
       "1185   45                     110         264             132\n",
       "1186   68                     144         193             141\n",
       "1187   57                     130         131             115\n",
       "1188   57                     130         236             174\n",
       "1189   38                     138         175             173\n",
       "\n",
       "[1189 rows x 4 columns]"
      ]
     },
     "execution_count": 51,
     "metadata": {},
     "output_type": "execute_result"
    }
   ],
   "source": [
    "dt_numeric"
   ]
  },
  {
   "cell_type": "code",
   "execution_count": 52,
   "id": "9ddabf3d",
   "metadata": {},
   "outputs": [],
   "source": [
    "# Calculating zscore of numeric colums in the dataset\n",
    "z=np.abs(stats.zscore(dt_numeric))"
   ]
  },
  {
   "cell_type": "code",
   "execution_count": 53,
   "id": "ddcafd69",
   "metadata": {},
   "outputs": [
    {
     "name": "stdout",
     "output_type": "stream",
     "text": [
      "           age  resting_blood_pressure  cholestrol  Max_Heart_rate\n",
      "0     1.466266                0.428136    0.775228        1.264301\n",
      "1     0.503599                1.517370    0.299516        0.637259\n",
      "2     1.787155                0.116481    0.716067        1.635766\n",
      "3     0.610562                0.319212    0.035725        1.243865\n",
      "4     0.031216                0.972753    0.151616        0.695204\n",
      "...        ...                     ...         ...             ...\n",
      "1185  0.931451                1.205715    0.528727        0.303303\n",
      "1186  1.528698                0.645983    0.171336        0.049408\n",
      "1187  0.352105                0.116481    0.782658        0.969535\n",
      "1188  0.352105                0.116481    0.252646        1.342681\n",
      "1189  1.680192                0.319212    0.348816        1.303491\n",
      "\n",
      "[1189 rows x 4 columns]\n"
     ]
    }
   ],
   "source": [
    "print(z)"
   ]
  },
  {
   "cell_type": "code",
   "execution_count": 54,
   "id": "5594708c",
   "metadata": {},
   "outputs": [
    {
     "name": "stdout",
     "output_type": "stream",
     "text": [
      "(array([  30,   76,  109,  149,  242,  366,  371,  391,  400,  450,  592,\n",
      "        617,  733,  760, 1012, 1038, 1074], dtype=int64), array([2, 2, 1, 2, 1, 1, 3, 3, 1, 1, 1, 2, 1, 1, 1, 2, 1], dtype=int64))\n"
     ]
    }
   ],
   "source": [
    "# Defining threshold for filtering outliers\n",
    "threshold = 3\n",
    "print(np.where(z>3))"
   ]
  },
  {
   "cell_type": "code",
   "execution_count": 55,
   "id": "f6d06128",
   "metadata": {},
   "outputs": [
    {
     "data": {
      "text/plain": [
       "(1172, 12)"
      ]
     },
     "execution_count": 55,
     "metadata": {},
     "output_type": "execute_result"
    }
   ],
   "source": [
    "# Filtering outliers retaining only those data points which are below threshold\n",
    "dt=dt[(z<3).all(axis=1)]\n",
    "dt.shape"
   ]
  },
  {
   "cell_type": "code",
   "execution_count": 56,
   "id": "b667360f",
   "metadata": {},
   "outputs": [
    {
     "data": {
      "text/html": [
       "<div>\n",
       "<style scoped>\n",
       "    .dataframe tbody tr th:only-of-type {\n",
       "        vertical-align: middle;\n",
       "    }\n",
       "\n",
       "    .dataframe tbody tr th {\n",
       "        vertical-align: top;\n",
       "    }\n",
       "\n",
       "    .dataframe thead th {\n",
       "        text-align: right;\n",
       "    }\n",
       "</style>\n",
       "<table border=\"1\" class=\"dataframe\">\n",
       "  <thead>\n",
       "    <tr style=\"text-align: right;\">\n",
       "      <th></th>\n",
       "      <th>age</th>\n",
       "      <th>resting_blood_pressure</th>\n",
       "      <th>cholestrol</th>\n",
       "      <th>fasting_blood_sugar</th>\n",
       "      <th>Max_Heart_rate</th>\n",
       "      <th>exercise_induced_angina</th>\n",
       "      <th>st_depression</th>\n",
       "      <th>target</th>\n",
       "      <th>sex_male</th>\n",
       "      <th>chest_pain_type_Non Angina Pain</th>\n",
       "      <th>chest_pain_type_Typical Angina</th>\n",
       "      <th>chest_pain_type_aTypical Angina</th>\n",
       "      <th>Resting_ecg_Normal</th>\n",
       "      <th>Resting_ecg_ST-T wave abnormility</th>\n",
       "      <th>st_slope_Flat</th>\n",
       "      <th>st_slope_Upsloping</th>\n",
       "    </tr>\n",
       "  </thead>\n",
       "  <tbody>\n",
       "    <tr>\n",
       "      <th>0</th>\n",
       "      <td>40</td>\n",
       "      <td>140</td>\n",
       "      <td>289</td>\n",
       "      <td>0</td>\n",
       "      <td>172</td>\n",
       "      <td>0</td>\n",
       "      <td>0.0</td>\n",
       "      <td>0</td>\n",
       "      <td>1</td>\n",
       "      <td>0</td>\n",
       "      <td>0</td>\n",
       "      <td>1</td>\n",
       "      <td>1</td>\n",
       "      <td>0</td>\n",
       "      <td>0</td>\n",
       "      <td>1</td>\n",
       "    </tr>\n",
       "    <tr>\n",
       "      <th>1</th>\n",
       "      <td>49</td>\n",
       "      <td>160</td>\n",
       "      <td>180</td>\n",
       "      <td>0</td>\n",
       "      <td>156</td>\n",
       "      <td>0</td>\n",
       "      <td>1.0</td>\n",
       "      <td>1</td>\n",
       "      <td>0</td>\n",
       "      <td>1</td>\n",
       "      <td>0</td>\n",
       "      <td>0</td>\n",
       "      <td>1</td>\n",
       "      <td>0</td>\n",
       "      <td>1</td>\n",
       "      <td>0</td>\n",
       "    </tr>\n",
       "    <tr>\n",
       "      <th>2</th>\n",
       "      <td>37</td>\n",
       "      <td>130</td>\n",
       "      <td>283</td>\n",
       "      <td>0</td>\n",
       "      <td>98</td>\n",
       "      <td>0</td>\n",
       "      <td>0.0</td>\n",
       "      <td>0</td>\n",
       "      <td>1</td>\n",
       "      <td>0</td>\n",
       "      <td>0</td>\n",
       "      <td>1</td>\n",
       "      <td>0</td>\n",
       "      <td>1</td>\n",
       "      <td>0</td>\n",
       "      <td>1</td>\n",
       "    </tr>\n",
       "    <tr>\n",
       "      <th>3</th>\n",
       "      <td>48</td>\n",
       "      <td>138</td>\n",
       "      <td>214</td>\n",
       "      <td>0</td>\n",
       "      <td>108</td>\n",
       "      <td>1</td>\n",
       "      <td>1.5</td>\n",
       "      <td>1</td>\n",
       "      <td>0</td>\n",
       "      <td>0</td>\n",
       "      <td>0</td>\n",
       "      <td>0</td>\n",
       "      <td>1</td>\n",
       "      <td>0</td>\n",
       "      <td>1</td>\n",
       "      <td>0</td>\n",
       "    </tr>\n",
       "    <tr>\n",
       "      <th>4</th>\n",
       "      <td>54</td>\n",
       "      <td>150</td>\n",
       "      <td>195</td>\n",
       "      <td>0</td>\n",
       "      <td>122</td>\n",
       "      <td>0</td>\n",
       "      <td>0.0</td>\n",
       "      <td>0</td>\n",
       "      <td>1</td>\n",
       "      <td>1</td>\n",
       "      <td>0</td>\n",
       "      <td>0</td>\n",
       "      <td>1</td>\n",
       "      <td>0</td>\n",
       "      <td>0</td>\n",
       "      <td>1</td>\n",
       "    </tr>\n",
       "  </tbody>\n",
       "</table>\n",
       "</div>"
      ],
      "text/plain": [
       "   age  resting_blood_pressure  cholestrol  fasting_blood_sugar  \\\n",
       "0   40                     140         289                    0   \n",
       "1   49                     160         180                    0   \n",
       "2   37                     130         283                    0   \n",
       "3   48                     138         214                    0   \n",
       "4   54                     150         195                    0   \n",
       "\n",
       "   Max_Heart_rate  exercise_induced_angina  st_depression  target  sex_male  \\\n",
       "0             172                        0            0.0       0         1   \n",
       "1             156                        0            1.0       1         0   \n",
       "2              98                        0            0.0       0         1   \n",
       "3             108                        1            1.5       1         0   \n",
       "4             122                        0            0.0       0         1   \n",
       "\n",
       "   chest_pain_type_Non Angina Pain  chest_pain_type_Typical Angina  \\\n",
       "0                                0                               0   \n",
       "1                                1                               0   \n",
       "2                                0                               0   \n",
       "3                                0                               0   \n",
       "4                                1                               0   \n",
       "\n",
       "   chest_pain_type_aTypical Angina  Resting_ecg_Normal  \\\n",
       "0                                1                   1   \n",
       "1                                0                   1   \n",
       "2                                1                   0   \n",
       "3                                0                   1   \n",
       "4                                0                   1   \n",
       "\n",
       "   Resting_ecg_ST-T wave abnormility  st_slope_Flat  st_slope_Upsloping  \n",
       "0                                  0              0                   1  \n",
       "1                                  0              1                   0  \n",
       "2                                  1              0                   1  \n",
       "3                                  0              1                   0  \n",
       "4                                  0              0                   1  "
      ]
     },
     "execution_count": 56,
     "metadata": {},
     "output_type": "execute_result"
    }
   ],
   "source": [
    "# Encoding categorial variables\n",
    "dt=pd.get_dummies(dt,drop_first=True)\n",
    "dt.head()"
   ]
  },
  {
   "cell_type": "code",
   "execution_count": 57,
   "id": "fe6c2994",
   "metadata": {},
   "outputs": [],
   "source": [
    "# Segregrating dataset into features i.e X and Target variable i.e Y\n",
    "X=dt.drop(['target'],axis=1)\n",
    "Y=dt['target']"
   ]
  },
  {
   "cell_type": "code",
   "execution_count": 58,
   "id": "1134d8e7",
   "metadata": {},
   "outputs": [
    {
     "data": {
      "text/html": [
       "<div>\n",
       "<style scoped>\n",
       "    .dataframe tbody tr th:only-of-type {\n",
       "        vertical-align: middle;\n",
       "    }\n",
       "\n",
       "    .dataframe tbody tr th {\n",
       "        vertical-align: top;\n",
       "    }\n",
       "\n",
       "    .dataframe thead th {\n",
       "        text-align: right;\n",
       "    }\n",
       "</style>\n",
       "<table border=\"1\" class=\"dataframe\">\n",
       "  <thead>\n",
       "    <tr style=\"text-align: right;\">\n",
       "      <th></th>\n",
       "      <th>age</th>\n",
       "      <th>resting_blood_pressure</th>\n",
       "      <th>cholestrol</th>\n",
       "      <th>fasting_blood_sugar</th>\n",
       "      <th>Max_Heart_rate</th>\n",
       "      <th>exercise_induced_angina</th>\n",
       "      <th>st_depression</th>\n",
       "      <th>sex_male</th>\n",
       "      <th>chest_pain_type_Non Angina Pain</th>\n",
       "      <th>chest_pain_type_Typical Angina</th>\n",
       "      <th>chest_pain_type_aTypical Angina</th>\n",
       "      <th>Resting_ecg_Normal</th>\n",
       "      <th>Resting_ecg_ST-T wave abnormility</th>\n",
       "      <th>st_slope_Flat</th>\n",
       "      <th>st_slope_Upsloping</th>\n",
       "    </tr>\n",
       "  </thead>\n",
       "  <tbody>\n",
       "    <tr>\n",
       "      <th>0</th>\n",
       "      <td>40</td>\n",
       "      <td>140</td>\n",
       "      <td>289</td>\n",
       "      <td>0</td>\n",
       "      <td>172</td>\n",
       "      <td>0</td>\n",
       "      <td>0.0</td>\n",
       "      <td>1</td>\n",
       "      <td>0</td>\n",
       "      <td>0</td>\n",
       "      <td>1</td>\n",
       "      <td>1</td>\n",
       "      <td>0</td>\n",
       "      <td>0</td>\n",
       "      <td>1</td>\n",
       "    </tr>\n",
       "    <tr>\n",
       "      <th>1</th>\n",
       "      <td>49</td>\n",
       "      <td>160</td>\n",
       "      <td>180</td>\n",
       "      <td>0</td>\n",
       "      <td>156</td>\n",
       "      <td>0</td>\n",
       "      <td>1.0</td>\n",
       "      <td>0</td>\n",
       "      <td>1</td>\n",
       "      <td>0</td>\n",
       "      <td>0</td>\n",
       "      <td>1</td>\n",
       "      <td>0</td>\n",
       "      <td>1</td>\n",
       "      <td>0</td>\n",
       "    </tr>\n",
       "    <tr>\n",
       "      <th>2</th>\n",
       "      <td>37</td>\n",
       "      <td>130</td>\n",
       "      <td>283</td>\n",
       "      <td>0</td>\n",
       "      <td>98</td>\n",
       "      <td>0</td>\n",
       "      <td>0.0</td>\n",
       "      <td>1</td>\n",
       "      <td>0</td>\n",
       "      <td>0</td>\n",
       "      <td>1</td>\n",
       "      <td>0</td>\n",
       "      <td>1</td>\n",
       "      <td>0</td>\n",
       "      <td>1</td>\n",
       "    </tr>\n",
       "    <tr>\n",
       "      <th>3</th>\n",
       "      <td>48</td>\n",
       "      <td>138</td>\n",
       "      <td>214</td>\n",
       "      <td>0</td>\n",
       "      <td>108</td>\n",
       "      <td>1</td>\n",
       "      <td>1.5</td>\n",
       "      <td>0</td>\n",
       "      <td>0</td>\n",
       "      <td>0</td>\n",
       "      <td>0</td>\n",
       "      <td>1</td>\n",
       "      <td>0</td>\n",
       "      <td>1</td>\n",
       "      <td>0</td>\n",
       "    </tr>\n",
       "    <tr>\n",
       "      <th>4</th>\n",
       "      <td>54</td>\n",
       "      <td>150</td>\n",
       "      <td>195</td>\n",
       "      <td>0</td>\n",
       "      <td>122</td>\n",
       "      <td>0</td>\n",
       "      <td>0.0</td>\n",
       "      <td>1</td>\n",
       "      <td>1</td>\n",
       "      <td>0</td>\n",
       "      <td>0</td>\n",
       "      <td>1</td>\n",
       "      <td>0</td>\n",
       "      <td>0</td>\n",
       "      <td>1</td>\n",
       "    </tr>\n",
       "    <tr>\n",
       "      <th>...</th>\n",
       "      <td>...</td>\n",
       "      <td>...</td>\n",
       "      <td>...</td>\n",
       "      <td>...</td>\n",
       "      <td>...</td>\n",
       "      <td>...</td>\n",
       "      <td>...</td>\n",
       "      <td>...</td>\n",
       "      <td>...</td>\n",
       "      <td>...</td>\n",
       "      <td>...</td>\n",
       "      <td>...</td>\n",
       "      <td>...</td>\n",
       "      <td>...</td>\n",
       "      <td>...</td>\n",
       "    </tr>\n",
       "    <tr>\n",
       "      <th>1185</th>\n",
       "      <td>45</td>\n",
       "      <td>110</td>\n",
       "      <td>264</td>\n",
       "      <td>0</td>\n",
       "      <td>132</td>\n",
       "      <td>0</td>\n",
       "      <td>1.2</td>\n",
       "      <td>1</td>\n",
       "      <td>0</td>\n",
       "      <td>1</td>\n",
       "      <td>0</td>\n",
       "      <td>1</td>\n",
       "      <td>0</td>\n",
       "      <td>1</td>\n",
       "      <td>0</td>\n",
       "    </tr>\n",
       "    <tr>\n",
       "      <th>1186</th>\n",
       "      <td>68</td>\n",
       "      <td>144</td>\n",
       "      <td>193</td>\n",
       "      <td>1</td>\n",
       "      <td>141</td>\n",
       "      <td>0</td>\n",
       "      <td>3.4</td>\n",
       "      <td>1</td>\n",
       "      <td>0</td>\n",
       "      <td>0</td>\n",
       "      <td>0</td>\n",
       "      <td>1</td>\n",
       "      <td>0</td>\n",
       "      <td>1</td>\n",
       "      <td>0</td>\n",
       "    </tr>\n",
       "    <tr>\n",
       "      <th>1187</th>\n",
       "      <td>57</td>\n",
       "      <td>130</td>\n",
       "      <td>131</td>\n",
       "      <td>0</td>\n",
       "      <td>115</td>\n",
       "      <td>1</td>\n",
       "      <td>1.2</td>\n",
       "      <td>1</td>\n",
       "      <td>0</td>\n",
       "      <td>0</td>\n",
       "      <td>0</td>\n",
       "      <td>1</td>\n",
       "      <td>0</td>\n",
       "      <td>1</td>\n",
       "      <td>0</td>\n",
       "    </tr>\n",
       "    <tr>\n",
       "      <th>1188</th>\n",
       "      <td>57</td>\n",
       "      <td>130</td>\n",
       "      <td>236</td>\n",
       "      <td>0</td>\n",
       "      <td>174</td>\n",
       "      <td>0</td>\n",
       "      <td>0.0</td>\n",
       "      <td>0</td>\n",
       "      <td>0</td>\n",
       "      <td>0</td>\n",
       "      <td>1</td>\n",
       "      <td>0</td>\n",
       "      <td>0</td>\n",
       "      <td>1</td>\n",
       "      <td>0</td>\n",
       "    </tr>\n",
       "    <tr>\n",
       "      <th>1189</th>\n",
       "      <td>38</td>\n",
       "      <td>138</td>\n",
       "      <td>175</td>\n",
       "      <td>0</td>\n",
       "      <td>173</td>\n",
       "      <td>0</td>\n",
       "      <td>0.0</td>\n",
       "      <td>1</td>\n",
       "      <td>1</td>\n",
       "      <td>0</td>\n",
       "      <td>0</td>\n",
       "      <td>1</td>\n",
       "      <td>0</td>\n",
       "      <td>0</td>\n",
       "      <td>1</td>\n",
       "    </tr>\n",
       "  </tbody>\n",
       "</table>\n",
       "<p>1172 rows × 15 columns</p>\n",
       "</div>"
      ],
      "text/plain": [
       "      age  resting_blood_pressure  cholestrol  fasting_blood_sugar  \\\n",
       "0      40                     140         289                    0   \n",
       "1      49                     160         180                    0   \n",
       "2      37                     130         283                    0   \n",
       "3      48                     138         214                    0   \n",
       "4      54                     150         195                    0   \n",
       "...   ...                     ...         ...                  ...   \n",
       "1185   45                     110         264                    0   \n",
       "1186   68                     144         193                    1   \n",
       "1187   57                     130         131                    0   \n",
       "1188   57                     130         236                    0   \n",
       "1189   38                     138         175                    0   \n",
       "\n",
       "      Max_Heart_rate  exercise_induced_angina  st_depression  sex_male  \\\n",
       "0                172                        0            0.0         1   \n",
       "1                156                        0            1.0         0   \n",
       "2                 98                        0            0.0         1   \n",
       "3                108                        1            1.5         0   \n",
       "4                122                        0            0.0         1   \n",
       "...              ...                      ...            ...       ...   \n",
       "1185             132                        0            1.2         1   \n",
       "1186             141                        0            3.4         1   \n",
       "1187             115                        1            1.2         1   \n",
       "1188             174                        0            0.0         0   \n",
       "1189             173                        0            0.0         1   \n",
       "\n",
       "      chest_pain_type_Non Angina Pain  chest_pain_type_Typical Angina  \\\n",
       "0                                   0                               0   \n",
       "1                                   1                               0   \n",
       "2                                   0                               0   \n",
       "3                                   0                               0   \n",
       "4                                   1                               0   \n",
       "...                               ...                             ...   \n",
       "1185                                0                               1   \n",
       "1186                                0                               0   \n",
       "1187                                0                               0   \n",
       "1188                                0                               0   \n",
       "1189                                1                               0   \n",
       "\n",
       "      chest_pain_type_aTypical Angina  Resting_ecg_Normal  \\\n",
       "0                                   1                   1   \n",
       "1                                   0                   1   \n",
       "2                                   1                   0   \n",
       "3                                   0                   1   \n",
       "4                                   0                   1   \n",
       "...                               ...                 ...   \n",
       "1185                                0                   1   \n",
       "1186                                0                   1   \n",
       "1187                                0                   1   \n",
       "1188                                1                   0   \n",
       "1189                                0                   1   \n",
       "\n",
       "      Resting_ecg_ST-T wave abnormility  st_slope_Flat  st_slope_Upsloping  \n",
       "0                                     0              0                   1  \n",
       "1                                     0              1                   0  \n",
       "2                                     1              0                   1  \n",
       "3                                     0              1                   0  \n",
       "4                                     0              0                   1  \n",
       "...                                 ...            ...                 ...  \n",
       "1185                                  0              1                   0  \n",
       "1186                                  0              1                   0  \n",
       "1187                                  0              1                   0  \n",
       "1188                                  0              1                   0  \n",
       "1189                                  0              0                   1  \n",
       "\n",
       "[1172 rows x 15 columns]"
      ]
     },
     "execution_count": 58,
     "metadata": {},
     "output_type": "execute_result"
    }
   ],
   "source": [
    "X"
   ]
  },
  {
   "cell_type": "code",
   "execution_count": 59,
   "id": "54852719",
   "metadata": {},
   "outputs": [
    {
     "data": {
      "text/plain": [
       "0       0\n",
       "1       1\n",
       "2       0\n",
       "3       1\n",
       "4       0\n",
       "       ..\n",
       "1185    1\n",
       "1186    1\n",
       "1187    1\n",
       "1188    1\n",
       "1189    0\n",
       "Name: target, Length: 1172, dtype: int64"
      ]
     },
     "execution_count": 59,
     "metadata": {},
     "output_type": "execute_result"
    }
   ],
   "source": [
    "Y"
   ]
  },
  {
   "cell_type": "code",
   "execution_count": 60,
   "id": "97639d98",
   "metadata": {},
   "outputs": [
    {
     "data": {
      "text/plain": [
       "<AxesSubplot:title={'center':'Correlation with Diabetes'}>"
      ]
     },
     "execution_count": 60,
     "metadata": {},
     "output_type": "execute_result"
    },
    {
     "data": {
      "image/png": "[encoded data removed]",
      "text/plain": [
       "<Figure size 1152x288 with 1 Axes>"
      ]
     },
     "metadata": {
      "needs_background": "light"
     },
     "output_type": "display_data"
    }
   ],
   "source": [
    "# Correlation with Response Variable Class\n",
    "X.corrwith(Y).plot.bar(figsize=(16,4),title=\"Correlation with Diabetes\", fontsize=15, rot=90, grid=True)"
   ]
  },
  {
   "cell_type": "code",
   "execution_count": 61,
   "id": "e1275fba",
   "metadata": {},
   "outputs": [],
   "source": [
    "xtrain,xtest,ytrain,ytest=train_test_split(X,Y,test_size=0.2,shuffle=True,random_state=101)"
   ]
  },
  {
   "cell_type": "code",
   "execution_count": 62,
   "id": "d78296c1",
   "metadata": {},
   "outputs": [
    {
     "name": "stdout",
     "output_type": "stream",
     "text": [
      "Distribution of target variable in training set\n",
      "1    489\n",
      "0    448\n",
      "Name: target, dtype: int64\n"
     ]
    }
   ],
   "source": [
    "# Checking Distribuation of target variable in train test split\n",
    "print('Distribution of target variable in training set')\n",
    "print(ytrain.value_counts())"
   ]
  },
  {
   "cell_type": "code",
   "execution_count": 63,
   "id": "a776d11d",
   "metadata": {},
   "outputs": [
    {
     "name": "stdout",
     "output_type": "stream",
     "text": [
      "Distribution of target variable in testing set\n",
      "1    125\n",
      "0    110\n",
      "Name: target, dtype: int64\n"
     ]
    }
   ],
   "source": [
    "# Checking Distribuation of target variable in train test split\n",
    "print('Distribution of target variable in testing set')\n",
    "print(ytest.value_counts())"
   ]
  },
  {
   "cell_type": "code",
   "execution_count": 64,
   "id": "2901a643",
   "metadata": {},
   "outputs": [
    {
     "name": "stdout",
     "output_type": "stream",
     "text": [
      "************************* Training Set *************************\n",
      "(937, 15)\n",
      "(937,)\n",
      "************************* Testing Set *************************\n",
      "(235, 15)\n",
      "(235,)\n"
     ]
    }
   ],
   "source": [
    "print('*'*25,'Training Set','*'*25)\n",
    "print(xtrain.shape)\n",
    "print(ytrain.shape)\n",
    "\n",
    "print('*'*25,'Testing Set','*'*25)\n",
    "print(xtest.shape)\n",
    "print(ytest.shape)"
   ]
  },
  {
   "cell_type": "markdown",
   "id": "907b602a",
   "metadata": {},
   "source": [
    "# Feature normalization\n",
    "In this I will normalize all the numeric features in the range of 0 & 1"
   ]
  },
  {
   "cell_type": "code",
   "execution_count": 65,
   "id": "29a6b4f8",
   "metadata": {},
   "outputs": [],
   "source": [
    "from sklearn.preprocessing import MinMaxScaler"
   ]
  },
  {
   "cell_type": "code",
   "execution_count": 66,
   "id": "0b8133d3",
   "metadata": {},
   "outputs": [],
   "source": [
    "scaler=MinMaxScaler()"
   ]
  },
  {
   "cell_type": "code",
   "execution_count": 67,
   "id": "bc171e70",
   "metadata": {},
   "outputs": [
    {
     "data": {
      "text/html": [
       "<div>\n",
       "<style scoped>\n",
       "    .dataframe tbody tr th:only-of-type {\n",
       "        vertical-align: middle;\n",
       "    }\n",
       "\n",
       "    .dataframe tbody tr th {\n",
       "        vertical-align: top;\n",
       "    }\n",
       "\n",
       "    .dataframe thead th {\n",
       "        text-align: right;\n",
       "    }\n",
       "</style>\n",
       "<table border=\"1\" class=\"dataframe\">\n",
       "  <thead>\n",
       "    <tr style=\"text-align: right;\">\n",
       "      <th></th>\n",
       "      <th>age</th>\n",
       "      <th>resting_blood_pressure</th>\n",
       "      <th>cholestrol</th>\n",
       "      <th>Max_Heart_rate</th>\n",
       "      <th>st_depression</th>\n",
       "    </tr>\n",
       "  </thead>\n",
       "  <tbody>\n",
       "    <tr>\n",
       "      <th>605</th>\n",
       "      <td>74</td>\n",
       "      <td>155</td>\n",
       "      <td>310</td>\n",
       "      <td>112</td>\n",
       "      <td>1.5</td>\n",
       "    </tr>\n",
       "    <tr>\n",
       "      <th>89</th>\n",
       "      <td>55</td>\n",
       "      <td>140</td>\n",
       "      <td>229</td>\n",
       "      <td>110</td>\n",
       "      <td>0.5</td>\n",
       "    </tr>\n",
       "    <tr>\n",
       "      <th>520</th>\n",
       "      <td>63</td>\n",
       "      <td>96</td>\n",
       "      <td>305</td>\n",
       "      <td>121</td>\n",
       "      <td>1.0</td>\n",
       "    </tr>\n",
       "    <tr>\n",
       "      <th>372</th>\n",
       "      <td>66</td>\n",
       "      <td>150</td>\n",
       "      <td>0</td>\n",
       "      <td>108</td>\n",
       "      <td>2.0</td>\n",
       "    </tr>\n",
       "    <tr>\n",
       "      <th>222</th>\n",
       "      <td>51</td>\n",
       "      <td>160</td>\n",
       "      <td>303</td>\n",
       "      <td>150</td>\n",
       "      <td>1.0</td>\n",
       "    </tr>\n",
       "    <tr>\n",
       "      <th>...</th>\n",
       "      <td>...</td>\n",
       "      <td>...</td>\n",
       "      <td>...</td>\n",
       "      <td>...</td>\n",
       "      <td>...</td>\n",
       "    </tr>\n",
       "    <tr>\n",
       "      <th>586</th>\n",
       "      <td>57</td>\n",
       "      <td>180</td>\n",
       "      <td>285</td>\n",
       "      <td>120</td>\n",
       "      <td>0.8</td>\n",
       "    </tr>\n",
       "    <tr>\n",
       "      <th>988</th>\n",
       "      <td>34</td>\n",
       "      <td>118</td>\n",
       "      <td>182</td>\n",
       "      <td>174</td>\n",
       "      <td>0.0</td>\n",
       "    </tr>\n",
       "    <tr>\n",
       "      <th>77</th>\n",
       "      <td>35</td>\n",
       "      <td>140</td>\n",
       "      <td>167</td>\n",
       "      <td>150</td>\n",
       "      <td>0.0</td>\n",
       "    </tr>\n",
       "    <tr>\n",
       "      <th>611</th>\n",
       "      <td>46</td>\n",
       "      <td>134</td>\n",
       "      <td>310</td>\n",
       "      <td>126</td>\n",
       "      <td>0.0</td>\n",
       "    </tr>\n",
       "    <tr>\n",
       "      <th>878</th>\n",
       "      <td>60</td>\n",
       "      <td>130</td>\n",
       "      <td>206</td>\n",
       "      <td>132</td>\n",
       "      <td>2.4</td>\n",
       "    </tr>\n",
       "  </tbody>\n",
       "</table>\n",
       "<p>937 rows × 5 columns</p>\n",
       "</div>"
      ],
      "text/plain": [
       "     age  resting_blood_pressure  cholestrol  Max_Heart_rate  st_depression\n",
       "605   74                     155         310             112            1.5\n",
       "89    55                     140         229             110            0.5\n",
       "520   63                      96         305             121            1.0\n",
       "372   66                     150           0             108            2.0\n",
       "222   51                     160         303             150            1.0\n",
       "..   ...                     ...         ...             ...            ...\n",
       "586   57                     180         285             120            0.8\n",
       "988   34                     118         182             174            0.0\n",
       "77    35                     140         167             150            0.0\n",
       "611   46                     134         310             126            0.0\n",
       "878   60                     130         206             132            2.4\n",
       "\n",
       "[937 rows x 5 columns]"
      ]
     },
     "execution_count": 67,
     "metadata": {},
     "output_type": "execute_result"
    }
   ],
   "source": [
    "xtrain[['age','resting_blood_pressure','cholestrol','Max_Heart_rate','st_depression']]"
   ]
  },
  {
   "cell_type": "code",
   "execution_count": 68,
   "id": "f35c33b8",
   "metadata": {},
   "outputs": [],
   "source": [
    "xtrain[['age','resting_blood_pressure','cholestrol','Max_Heart_rate','st_depression']]=scaler.fit_transform(xtrain[['age','resting_blood_pressure','cholestrol','Max_Heart_rate','st_depression']])"
   ]
  },
  {
   "cell_type": "code",
   "execution_count": 69,
   "id": "46c31770",
   "metadata": {},
   "outputs": [
    {
     "data": {
      "text/html": [
       "<div>\n",
       "<style scoped>\n",
       "    .dataframe tbody tr th:only-of-type {\n",
       "        vertical-align: middle;\n",
       "    }\n",
       "\n",
       "    .dataframe tbody tr th {\n",
       "        vertical-align: top;\n",
       "    }\n",
       "\n",
       "    .dataframe thead th {\n",
       "        text-align: right;\n",
       "    }\n",
       "</style>\n",
       "<table border=\"1\" class=\"dataframe\">\n",
       "  <thead>\n",
       "    <tr style=\"text-align: right;\">\n",
       "      <th></th>\n",
       "      <th>age</th>\n",
       "      <th>resting_blood_pressure</th>\n",
       "      <th>cholestrol</th>\n",
       "      <th>fasting_blood_sugar</th>\n",
       "      <th>Max_Heart_rate</th>\n",
       "      <th>exercise_induced_angina</th>\n",
       "      <th>st_depression</th>\n",
       "      <th>sex_male</th>\n",
       "      <th>chest_pain_type_Non Angina Pain</th>\n",
       "      <th>chest_pain_type_Typical Angina</th>\n",
       "      <th>chest_pain_type_aTypical Angina</th>\n",
       "      <th>Resting_ecg_Normal</th>\n",
       "      <th>Resting_ecg_ST-T wave abnormility</th>\n",
       "      <th>st_slope_Flat</th>\n",
       "      <th>st_slope_Upsloping</th>\n",
       "    </tr>\n",
       "  </thead>\n",
       "  <tbody>\n",
       "    <tr>\n",
       "      <th>605</th>\n",
       "      <td>0.938776</td>\n",
       "      <td>0.714286</td>\n",
       "      <td>0.631365</td>\n",
       "      <td>0</td>\n",
       "      <td>0.333333</td>\n",
       "      <td>1</td>\n",
       "      <td>0.465909</td>\n",
       "      <td>1</td>\n",
       "      <td>0</td>\n",
       "      <td>0</td>\n",
       "      <td>0</td>\n",
       "      <td>1</td>\n",
       "      <td>0</td>\n",
       "      <td>0</td>\n",
       "      <td>0</td>\n",
       "    </tr>\n",
       "    <tr>\n",
       "      <th>89</th>\n",
       "      <td>0.551020</td>\n",
       "      <td>0.571429</td>\n",
       "      <td>0.466395</td>\n",
       "      <td>0</td>\n",
       "      <td>0.318519</td>\n",
       "      <td>1</td>\n",
       "      <td>0.352273</td>\n",
       "      <td>1</td>\n",
       "      <td>0</td>\n",
       "      <td>0</td>\n",
       "      <td>0</td>\n",
       "      <td>1</td>\n",
       "      <td>0</td>\n",
       "      <td>1</td>\n",
       "      <td>0</td>\n",
       "    </tr>\n",
       "    <tr>\n",
       "      <th>520</th>\n",
       "      <td>0.714286</td>\n",
       "      <td>0.152381</td>\n",
       "      <td>0.621181</td>\n",
       "      <td>0</td>\n",
       "      <td>0.400000</td>\n",
       "      <td>1</td>\n",
       "      <td>0.409091</td>\n",
       "      <td>1</td>\n",
       "      <td>0</td>\n",
       "      <td>0</td>\n",
       "      <td>0</td>\n",
       "      <td>0</td>\n",
       "      <td>1</td>\n",
       "      <td>0</td>\n",
       "      <td>1</td>\n",
       "    </tr>\n",
       "    <tr>\n",
       "      <th>372</th>\n",
       "      <td>0.775510</td>\n",
       "      <td>0.666667</td>\n",
       "      <td>0.000000</td>\n",
       "      <td>0</td>\n",
       "      <td>0.303704</td>\n",
       "      <td>1</td>\n",
       "      <td>0.522727</td>\n",
       "      <td>1</td>\n",
       "      <td>0</td>\n",
       "      <td>0</td>\n",
       "      <td>0</td>\n",
       "      <td>1</td>\n",
       "      <td>0</td>\n",
       "      <td>1</td>\n",
       "      <td>0</td>\n",
       "    </tr>\n",
       "    <tr>\n",
       "      <th>222</th>\n",
       "      <td>0.469388</td>\n",
       "      <td>0.761905</td>\n",
       "      <td>0.617108</td>\n",
       "      <td>0</td>\n",
       "      <td>0.614815</td>\n",
       "      <td>1</td>\n",
       "      <td>0.409091</td>\n",
       "      <td>0</td>\n",
       "      <td>0</td>\n",
       "      <td>0</td>\n",
       "      <td>0</td>\n",
       "      <td>1</td>\n",
       "      <td>0</td>\n",
       "      <td>1</td>\n",
       "      <td>0</td>\n",
       "    </tr>\n",
       "  </tbody>\n",
       "</table>\n",
       "</div>"
      ],
      "text/plain": [
       "          age  resting_blood_pressure  cholestrol  fasting_blood_sugar  \\\n",
       "605  0.938776                0.714286    0.631365                    0   \n",
       "89   0.551020                0.571429    0.466395                    0   \n",
       "520  0.714286                0.152381    0.621181                    0   \n",
       "372  0.775510                0.666667    0.000000                    0   \n",
       "222  0.469388                0.761905    0.617108                    0   \n",
       "\n",
       "     Max_Heart_rate  exercise_induced_angina  st_depression  sex_male  \\\n",
       "605        0.333333                        1       0.465909         1   \n",
       "89         0.318519                        1       0.352273         1   \n",
       "520        0.400000                        1       0.409091         1   \n",
       "372        0.303704                        1       0.522727         1   \n",
       "222        0.614815                        1       0.409091         0   \n",
       "\n",
       "     chest_pain_type_Non Angina Pain  chest_pain_type_Typical Angina  \\\n",
       "605                                0                               0   \n",
       "89                                 0                               0   \n",
       "520                                0                               0   \n",
       "372                                0                               0   \n",
       "222                                0                               0   \n",
       "\n",
       "     chest_pain_type_aTypical Angina  Resting_ecg_Normal  \\\n",
       "605                                0                   1   \n",
       "89                                 0                   1   \n",
       "520                                0                   0   \n",
       "372                                0                   1   \n",
       "222                                0                   1   \n",
       "\n",
       "     Resting_ecg_ST-T wave abnormility  st_slope_Flat  st_slope_Upsloping  \n",
       "605                                  0              0                   0  \n",
       "89                                   0              1                   0  \n",
       "520                                  1              0                   1  \n",
       "372                                  0              1                   0  \n",
       "222                                  0              1                   0  "
      ]
     },
     "execution_count": 69,
     "metadata": {},
     "output_type": "execute_result"
    }
   ],
   "source": [
    "xtrain.head()"
   ]
  },
  {
   "cell_type": "code",
   "execution_count": 70,
   "id": "dd0db423",
   "metadata": {},
   "outputs": [
    {
     "data": {
      "text/html": [
       "<div>\n",
       "<style scoped>\n",
       "    .dataframe tbody tr th:only-of-type {\n",
       "        vertical-align: middle;\n",
       "    }\n",
       "\n",
       "    .dataframe tbody tr th {\n",
       "        vertical-align: top;\n",
       "    }\n",
       "\n",
       "    .dataframe thead th {\n",
       "        text-align: right;\n",
       "    }\n",
       "</style>\n",
       "<table border=\"1\" class=\"dataframe\">\n",
       "  <thead>\n",
       "    <tr style=\"text-align: right;\">\n",
       "      <th></th>\n",
       "      <th>age</th>\n",
       "      <th>resting_blood_pressure</th>\n",
       "      <th>cholestrol</th>\n",
       "      <th>Max_Heart_rate</th>\n",
       "      <th>st_depression</th>\n",
       "    </tr>\n",
       "  </thead>\n",
       "  <tbody>\n",
       "    <tr>\n",
       "      <th>605</th>\n",
       "      <td>0.938776</td>\n",
       "      <td>0.714286</td>\n",
       "      <td>0.631365</td>\n",
       "      <td>0.333333</td>\n",
       "      <td>0.465909</td>\n",
       "    </tr>\n",
       "    <tr>\n",
       "      <th>89</th>\n",
       "      <td>0.551020</td>\n",
       "      <td>0.571429</td>\n",
       "      <td>0.466395</td>\n",
       "      <td>0.318519</td>\n",
       "      <td>0.352273</td>\n",
       "    </tr>\n",
       "    <tr>\n",
       "      <th>520</th>\n",
       "      <td>0.714286</td>\n",
       "      <td>0.152381</td>\n",
       "      <td>0.621181</td>\n",
       "      <td>0.400000</td>\n",
       "      <td>0.409091</td>\n",
       "    </tr>\n",
       "    <tr>\n",
       "      <th>372</th>\n",
       "      <td>0.775510</td>\n",
       "      <td>0.666667</td>\n",
       "      <td>0.000000</td>\n",
       "      <td>0.303704</td>\n",
       "      <td>0.522727</td>\n",
       "    </tr>\n",
       "    <tr>\n",
       "      <th>222</th>\n",
       "      <td>0.469388</td>\n",
       "      <td>0.761905</td>\n",
       "      <td>0.617108</td>\n",
       "      <td>0.614815</td>\n",
       "      <td>0.409091</td>\n",
       "    </tr>\n",
       "    <tr>\n",
       "      <th>...</th>\n",
       "      <td>...</td>\n",
       "      <td>...</td>\n",
       "      <td>...</td>\n",
       "      <td>...</td>\n",
       "      <td>...</td>\n",
       "    </tr>\n",
       "    <tr>\n",
       "      <th>586</th>\n",
       "      <td>0.591837</td>\n",
       "      <td>0.952381</td>\n",
       "      <td>0.580448</td>\n",
       "      <td>0.392593</td>\n",
       "      <td>0.386364</td>\n",
       "    </tr>\n",
       "    <tr>\n",
       "      <th>988</th>\n",
       "      <td>0.122449</td>\n",
       "      <td>0.361905</td>\n",
       "      <td>0.370672</td>\n",
       "      <td>0.792593</td>\n",
       "      <td>0.295455</td>\n",
       "    </tr>\n",
       "    <tr>\n",
       "      <th>77</th>\n",
       "      <td>0.142857</td>\n",
       "      <td>0.571429</td>\n",
       "      <td>0.340122</td>\n",
       "      <td>0.614815</td>\n",
       "      <td>0.295455</td>\n",
       "    </tr>\n",
       "    <tr>\n",
       "      <th>611</th>\n",
       "      <td>0.367347</td>\n",
       "      <td>0.514286</td>\n",
       "      <td>0.631365</td>\n",
       "      <td>0.437037</td>\n",
       "      <td>0.295455</td>\n",
       "    </tr>\n",
       "    <tr>\n",
       "      <th>878</th>\n",
       "      <td>0.653061</td>\n",
       "      <td>0.476190</td>\n",
       "      <td>0.419552</td>\n",
       "      <td>0.481481</td>\n",
       "      <td>0.568182</td>\n",
       "    </tr>\n",
       "  </tbody>\n",
       "</table>\n",
       "<p>937 rows × 5 columns</p>\n",
       "</div>"
      ],
      "text/plain": [
       "          age  resting_blood_pressure  cholestrol  Max_Heart_rate  \\\n",
       "605  0.938776                0.714286    0.631365        0.333333   \n",
       "89   0.551020                0.571429    0.466395        0.318519   \n",
       "520  0.714286                0.152381    0.621181        0.400000   \n",
       "372  0.775510                0.666667    0.000000        0.303704   \n",
       "222  0.469388                0.761905    0.617108        0.614815   \n",
       "..        ...                     ...         ...             ...   \n",
       "586  0.591837                0.952381    0.580448        0.392593   \n",
       "988  0.122449                0.361905    0.370672        0.792593   \n",
       "77   0.142857                0.571429    0.340122        0.614815   \n",
       "611  0.367347                0.514286    0.631365        0.437037   \n",
       "878  0.653061                0.476190    0.419552        0.481481   \n",
       "\n",
       "     st_depression  \n",
       "605       0.465909  \n",
       "89        0.352273  \n",
       "520       0.409091  \n",
       "372       0.522727  \n",
       "222       0.409091  \n",
       "..             ...  \n",
       "586       0.386364  \n",
       "988       0.295455  \n",
       "77        0.295455  \n",
       "611       0.295455  \n",
       "878       0.568182  \n",
       "\n",
       "[937 rows x 5 columns]"
      ]
     },
     "execution_count": 70,
     "metadata": {},
     "output_type": "execute_result"
    }
   ],
   "source": [
    "xtrain[['age','resting_blood_pressure','cholestrol','Max_Heart_rate','st_depression']]"
   ]
  },
  {
   "cell_type": "code",
   "execution_count": 71,
   "id": "cbf0f985",
   "metadata": {},
   "outputs": [],
   "source": [
    "xtest[['age','resting_blood_pressure','cholestrol','Max_Heart_rate','st_depression']]=scaler.transform(xtest[['age','resting_blood_pressure','cholestrol','Max_Heart_rate','st_depression']])"
   ]
  },
  {
   "cell_type": "code",
   "execution_count": 72,
   "id": "043ddebb",
   "metadata": {},
   "outputs": [
    {
     "data": {
      "text/html": [
       "<div>\n",
       "<style scoped>\n",
       "    .dataframe tbody tr th:only-of-type {\n",
       "        vertical-align: middle;\n",
       "    }\n",
       "\n",
       "    .dataframe tbody tr th {\n",
       "        vertical-align: top;\n",
       "    }\n",
       "\n",
       "    .dataframe thead th {\n",
       "        text-align: right;\n",
       "    }\n",
       "</style>\n",
       "<table border=\"1\" class=\"dataframe\">\n",
       "  <thead>\n",
       "    <tr style=\"text-align: right;\">\n",
       "      <th></th>\n",
       "      <th>age</th>\n",
       "      <th>resting_blood_pressure</th>\n",
       "      <th>cholestrol</th>\n",
       "      <th>fasting_blood_sugar</th>\n",
       "      <th>Max_Heart_rate</th>\n",
       "      <th>exercise_induced_angina</th>\n",
       "      <th>st_depression</th>\n",
       "      <th>sex_male</th>\n",
       "      <th>chest_pain_type_Non Angina Pain</th>\n",
       "      <th>chest_pain_type_Typical Angina</th>\n",
       "      <th>chest_pain_type_aTypical Angina</th>\n",
       "      <th>Resting_ecg_Normal</th>\n",
       "      <th>Resting_ecg_ST-T wave abnormility</th>\n",
       "      <th>st_slope_Flat</th>\n",
       "      <th>st_slope_Upsloping</th>\n",
       "    </tr>\n",
       "  </thead>\n",
       "  <tbody>\n",
       "    <tr>\n",
       "      <th>897</th>\n",
       "      <td>0.591837</td>\n",
       "      <td>0.571429</td>\n",
       "      <td>0.391039</td>\n",
       "      <td>0</td>\n",
       "      <td>0.600000</td>\n",
       "      <td>0</td>\n",
       "      <td>0.340909</td>\n",
       "      <td>1</td>\n",
       "      <td>0</td>\n",
       "      <td>0</td>\n",
       "      <td>0</td>\n",
       "      <td>1</td>\n",
       "      <td>0</td>\n",
       "      <td>1</td>\n",
       "      <td>0</td>\n",
       "    </tr>\n",
       "    <tr>\n",
       "      <th>392</th>\n",
       "      <td>0.857143</td>\n",
       "      <td>0.333333</td>\n",
       "      <td>0.000000</td>\n",
       "      <td>0</td>\n",
       "      <td>0.185185</td>\n",
       "      <td>1</td>\n",
       "      <td>0.295455</td>\n",
       "      <td>1</td>\n",
       "      <td>0</td>\n",
       "      <td>0</td>\n",
       "      <td>0</td>\n",
       "      <td>0</td>\n",
       "      <td>1</td>\n",
       "      <td>1</td>\n",
       "      <td>0</td>\n",
       "    </tr>\n",
       "    <tr>\n",
       "      <th>942</th>\n",
       "      <td>0.530612</td>\n",
       "      <td>0.419048</td>\n",
       "      <td>0.541752</td>\n",
       "      <td>0</td>\n",
       "      <td>0.311111</td>\n",
       "      <td>1</td>\n",
       "      <td>0.545455</td>\n",
       "      <td>1</td>\n",
       "      <td>0</td>\n",
       "      <td>0</td>\n",
       "      <td>0</td>\n",
       "      <td>0</td>\n",
       "      <td>0</td>\n",
       "      <td>1</td>\n",
       "      <td>0</td>\n",
       "    </tr>\n",
       "    <tr>\n",
       "      <th>982</th>\n",
       "      <td>0.489796</td>\n",
       "      <td>0.457143</td>\n",
       "      <td>0.519348</td>\n",
       "      <td>0</td>\n",
       "      <td>0.696296</td>\n",
       "      <td>1</td>\n",
       "      <td>0.295455</td>\n",
       "      <td>1</td>\n",
       "      <td>0</td>\n",
       "      <td>0</td>\n",
       "      <td>0</td>\n",
       "      <td>1</td>\n",
       "      <td>0</td>\n",
       "      <td>0</td>\n",
       "      <td>1</td>\n",
       "    </tr>\n",
       "    <tr>\n",
       "      <th>2</th>\n",
       "      <td>0.183673</td>\n",
       "      <td>0.476190</td>\n",
       "      <td>0.576375</td>\n",
       "      <td>0</td>\n",
       "      <td>0.229630</td>\n",
       "      <td>0</td>\n",
       "      <td>0.295455</td>\n",
       "      <td>1</td>\n",
       "      <td>0</td>\n",
       "      <td>0</td>\n",
       "      <td>1</td>\n",
       "      <td>0</td>\n",
       "      <td>1</td>\n",
       "      <td>0</td>\n",
       "      <td>1</td>\n",
       "    </tr>\n",
       "  </tbody>\n",
       "</table>\n",
       "</div>"
      ],
      "text/plain": [
       "          age  resting_blood_pressure  cholestrol  fasting_blood_sugar  \\\n",
       "897  0.591837                0.571429    0.391039                    0   \n",
       "392  0.857143                0.333333    0.000000                    0   \n",
       "942  0.530612                0.419048    0.541752                    0   \n",
       "982  0.489796                0.457143    0.519348                    0   \n",
       "2    0.183673                0.476190    0.576375                    0   \n",
       "\n",
       "     Max_Heart_rate  exercise_induced_angina  st_depression  sex_male  \\\n",
       "897        0.600000                        0       0.340909         1   \n",
       "392        0.185185                        1       0.295455         1   \n",
       "942        0.311111                        1       0.545455         1   \n",
       "982        0.696296                        1       0.295455         1   \n",
       "2          0.229630                        0       0.295455         1   \n",
       "\n",
       "     chest_pain_type_Non Angina Pain  chest_pain_type_Typical Angina  \\\n",
       "897                                0                               0   \n",
       "392                                0                               0   \n",
       "942                                0                               0   \n",
       "982                                0                               0   \n",
       "2                                  0                               0   \n",
       "\n",
       "     chest_pain_type_aTypical Angina  Resting_ecg_Normal  \\\n",
       "897                                0                   1   \n",
       "392                                0                   0   \n",
       "942                                0                   0   \n",
       "982                                0                   1   \n",
       "2                                  1                   0   \n",
       "\n",
       "     Resting_ecg_ST-T wave abnormility  st_slope_Flat  st_slope_Upsloping  \n",
       "897                                  0              1                   0  \n",
       "392                                  1              1                   0  \n",
       "942                                  0              1                   0  \n",
       "982                                  0              0                   1  \n",
       "2                                    1              0                   1  "
      ]
     },
     "execution_count": 72,
     "metadata": {},
     "output_type": "execute_result"
    }
   ],
   "source": [
    "xtest.head()"
   ]
  },
  {
   "cell_type": "markdown",
   "id": "5b8b5f2f",
   "metadata": {},
   "source": [
    "# Cross Validation"
   ]
  },
  {
   "cell_type": "code",
   "execution_count": 73,
   "id": "96302bfe",
   "metadata": {},
   "outputs": [],
   "source": [
    "from sklearn import model_selection\n",
    "from sklearn.model_selection import cross_val_score\n",
    "import xgboost as xgb\n",
    "from sklearn.discriminant_analysis import LinearDiscriminantAnalysis"
   ]
  },
  {
   "cell_type": "code",
   "execution_count": 74,
   "id": "0cfb0e0e",
   "metadata": {},
   "outputs": [],
   "source": [
    "# Function initializing baseline learning models\n",
    "def GetBasedModel():\n",
    "    basedmodels=[]\n",
    "    basedmodels.append(('LR_L2',LogisticRegression(penalty='12')))\n",
    "    basedmodels.append(('LDA',LinearDiscriminantAnalysis()))\n",
    "    basedmodels.append(('KNN7',KNeighborsClassifier(7)))\n",
    "    basedmodels.append(('KNN5',KNeighborsClassifier(5)))\n",
    "    basedmodels.append(('KNN9',KNeighborsClassifier(9)))\n",
    "    basedmodels.append(('KNN11',KNeighborsClassifier(11)))\n",
    "    basedmodels.append(('CART',DecisionTreeClassifier()))\n",
    "    basedmodels.append(('NB',GaussianNB()))\n",
    "    basedmodels.append(('SVM Linear',SVC(kernel='linear',gamma='auto',probability=True)))\n",
    "    basedmodels.append(('SVM RBF',SVC(kernel='rbf',gamma='auto',probability=True)))\n",
    "    basedmodels.append(('AB',AdaBoostClassifier()))\n",
    "    basedmodels.append(('GBM',GradientBoostingClassifier(n_estimators=100, max_features='sqrt')))\n",
    "    basedmodels.append(('RF_Ent100',RandomForestClassifier(criterion='entropy', n_estimators=100)))\n",
    "    basedmodels.append(('RF_Gini100',RandomForestClassifier(criterion='gini',n_estimators=100)))\n",
    "    basedmodels.append(('ET100',ExtraTreesClassifier(n_estimators=100)))\n",
    "    basedmodels.append(('ET500',ExtraTreesClassifier(n_estimators=500)))\n",
    "    basedmodels.append(('MLP',MLPClassifier()))\n",
    "    basedmodels.append(('SGD3000',SGDClassifier(max_iter=1000,tol=1e-4)))\n",
    "    basedmodels.append(('XGB2000',xgb.XGBClassifier(n_estimators=2000)))\n",
    "    basedmodels.append(('XGB500',xgb.XGBClassifier(n_estimators=500)))\n",
    "    basedmodels.append(('XGB100',xgb.XGBClassifier(n_estimators=100)))\n",
    "    basedmodels.append(('XGB1000',xgb.XGBClassifier(n_estimators=1000)))\n",
    "    basedmodels.append(('ET1000',ExtraTreesClassifier(n_estimators=1000)))\n",
    "\n",
    "    return basedmodels"
   ]
  },
  {
   "cell_type": "code",
   "execution_count": 75,
   "id": "3cb42f6f",
   "metadata": {},
   "outputs": [],
   "source": [
    "# Function for performing 10 fold cross Validation of all the based models\n",
    "def BaseLine2(xtrain,ytrain,models):\n",
    "    # Test options and evaluation metric\n",
    "    num_folds=10\n",
    "    scoring='accuracy'\n",
    "    seed=7\n",
    "    results=[]\n",
    "    names=[]\n",
    "    for name,model in models:\n",
    "        kfold=model_selection.KFold(n_splits=10,random_state=seed,shuffle=True)\n",
    "        cv_results=model_selection.cross_val_score(model,xtrain,ytrain,cv=kfold,scoring=scoring)\n",
    "        results.append(name)\n",
    "        msg=\"%s: %f (%f)\" %(name,cv_results.mean(),cv_results.std())\n",
    "        print(msg)\n",
    "    return results,msg"
   ]
  },
  {
   "cell_type": "code",
   "execution_count": 76,
   "id": "85259bb3",
   "metadata": {},
   "outputs": [
    {
     "name": "stdout",
     "output_type": "stream",
     "text": [
      "LR_L2: nan (nan)\n",
      "LDA: 0.840895 (0.026473)\n",
      "KNN7: 0.839876 (0.033854)\n",
      "KNN5: 0.846305 (0.022497)\n",
      "KNN9: 0.838858 (0.029082)\n",
      "KNN11: 0.835598 (0.033306)\n",
      "CART: 0.853775 (0.023544)\n",
      "NB: 0.829124 (0.028606)\n",
      "SVM Linear: 0.844097 (0.029230)\n",
      "SVM RBF: 0.838767 (0.032918)\n",
      "AB: 0.853660 (0.038162)\n",
      "GBM: 0.878266 (0.027391)\n",
      "RF_Ent100: 0.916701 (0.031046)\n",
      "RF_Gini100: 0.909243 (0.032616)\n",
      "ET100: 0.913521 (0.030786)\n",
      "ET500: 0.912446 (0.029119)\n",
      "MLP: 0.841993 (0.031897)\n",
      "SGD3000: 0.815260 (0.037194)\n",
      "XGB2000: 0.894326 (0.031947)\n",
      "XGB500: 0.894326 (0.035947)\n",
      "XGB100: 0.902860 (0.036345)\n",
      "XGB1000: 0.893262 (0.033169)\n",
      "ET1000: 0.911382 (0.033534)\n"
     ]
    }
   ],
   "source": [
    "models= GetBasedModel()\n",
    "names, results = BaseLine2(xtrain,ytrain,models)"
   ]
  },
  {
   "cell_type": "markdown",
   "id": "3241dbff",
   "metadata": {},
   "source": [
    "# Model Building"
   ]
  },
  {
   "cell_type": "markdown",
   "id": "9b29bf99",
   "metadata": {},
   "source": [
    "### Random Forest Classifier(Criterion='entropy')"
   ]
  },
  {
   "cell_type": "code",
   "execution_count": 77,
   "id": "cb0af8ec",
   "metadata": {},
   "outputs": [
    {
     "data": {
      "text/plain": [
       "RandomForestClassifier(criterion='entropy')"
      ]
     },
     "execution_count": 77,
     "metadata": {},
     "output_type": "execute_result"
    }
   ],
   "source": [
    "rf_ent=RandomForestClassifier(criterion='entropy',n_estimators=100)\n",
    "rf_ent.fit(xtrain,ytrain)"
   ]
  },
  {
   "cell_type": "code",
   "execution_count": 78,
   "id": "958bb375",
   "metadata": {},
   "outputs": [],
   "source": [
    "y_pred_rfe=rf_ent.predict(xtest)"
   ]
  },
  {
   "cell_type": "code",
   "execution_count": 79,
   "id": "901e7cd7",
   "metadata": {},
   "outputs": [
    {
     "data": {
      "text/plain": [
       "array([0, 1, 1, 1, 0, 0, 0, 1, 0, 1, 1, 1, 1, 0, 0, 1, 0, 1, 1, 0, 1, 1,\n",
       "       1, 0, 0, 0, 1, 0, 0, 0, 1, 1, 1, 0, 0, 0, 0, 0, 1, 1, 0, 0, 0, 1,\n",
       "       1, 1, 1, 0, 0, 0, 1, 1, 1, 0, 0, 0, 0, 1, 1, 0, 1, 1, 1, 1, 1, 1,\n",
       "       1, 0, 1, 0, 1, 0, 1, 1, 1, 1, 0, 0, 0, 0, 1, 1, 0, 1, 0, 1, 0, 0,\n",
       "       0, 0, 1, 0, 1, 0, 0, 0, 1, 0, 0, 1, 1, 1, 0, 0, 1, 1, 0, 1, 0, 1,\n",
       "       1, 1, 0, 1, 0, 1, 1, 1, 1, 1, 1, 1, 1, 1, 0, 0, 1, 1, 1, 0, 0, 1,\n",
       "       0, 1, 0, 1, 0, 1, 1, 1, 0, 1, 1, 0, 0, 1, 1, 0, 1, 1, 1, 1, 0, 0,\n",
       "       0, 0, 0, 1, 1, 0, 1, 1, 0, 1, 0, 0, 1, 0, 0, 1, 1, 1, 1, 1, 1, 0,\n",
       "       0, 0, 0, 1, 0, 0, 1, 1, 1, 1, 1, 1, 0, 1, 0, 0, 1, 1, 1, 1, 0, 1,\n",
       "       1, 1, 0, 1, 1, 1, 0, 1, 1, 0, 1, 1, 0, 1, 0, 0, 0, 0, 0, 1, 0, 1,\n",
       "       1, 1, 0, 1, 0, 1, 1, 1, 0, 0, 1, 0, 0, 1, 1], dtype=int64)"
      ]
     },
     "execution_count": 79,
     "metadata": {},
     "output_type": "execute_result"
    }
   ],
   "source": [
    "y_pred_rfe"
   ]
  },
  {
   "cell_type": "markdown",
   "id": "607470b4",
   "metadata": {},
   "source": [
    "## Multi Layer Perceptron"
   ]
  },
  {
   "cell_type": "code",
   "execution_count": 80,
   "id": "41686e2a",
   "metadata": {},
   "outputs": [],
   "source": [
    "mlp=MLPClassifier()"
   ]
  },
  {
   "cell_type": "code",
   "execution_count": 81,
   "id": "6fad70bb",
   "metadata": {},
   "outputs": [
    {
     "data": {
      "text/plain": [
       "MLPClassifier()"
      ]
     },
     "execution_count": 81,
     "metadata": {},
     "output_type": "execute_result"
    }
   ],
   "source": [
    "mlp.fit(xtrain,ytrain)"
   ]
  },
  {
   "cell_type": "code",
   "execution_count": 82,
   "id": "e8b6d1c2",
   "metadata": {},
   "outputs": [],
   "source": [
    "y_pred_mlp=mlp.predict(xtest)"
   ]
  },
  {
   "cell_type": "code",
   "execution_count": 83,
   "id": "b5e10c8c",
   "metadata": {},
   "outputs": [
    {
     "data": {
      "text/plain": [
       "array([1, 1, 1, 0, 0, 0, 0, 1, 0, 1, 1, 1, 1, 0, 0, 0, 0, 1, 1, 0, 0, 1,\n",
       "       1, 0, 0, 0, 1, 0, 0, 1, 1, 1, 1, 0, 0, 0, 0, 1, 1, 1, 0, 0, 0, 1,\n",
       "       1, 1, 1, 0, 0, 0, 1, 0, 1, 0, 0, 0, 0, 1, 0, 0, 1, 1, 1, 1, 1, 1,\n",
       "       1, 0, 1, 0, 1, 0, 1, 1, 1, 1, 0, 0, 0, 0, 1, 1, 0, 1, 0, 1, 0, 0,\n",
       "       1, 0, 1, 0, 1, 0, 0, 0, 1, 0, 0, 1, 1, 1, 0, 0, 1, 1, 0, 1, 0, 1,\n",
       "       1, 1, 0, 1, 0, 0, 1, 1, 1, 1, 1, 1, 1, 1, 0, 0, 1, 1, 1, 0, 0, 1,\n",
       "       0, 1, 0, 1, 0, 1, 1, 1, 0, 0, 1, 0, 0, 1, 1, 0, 1, 1, 0, 1, 0, 0,\n",
       "       0, 0, 0, 1, 1, 0, 1, 1, 0, 1, 0, 0, 1, 1, 0, 1, 1, 1, 1, 1, 1, 0,\n",
       "       0, 1, 1, 1, 0, 0, 1, 1, 1, 1, 1, 1, 0, 1, 0, 0, 1, 1, 1, 1, 0, 1,\n",
       "       1, 1, 1, 1, 1, 1, 0, 1, 1, 0, 1, 1, 0, 0, 0, 0, 0, 0, 0, 1, 0, 1,\n",
       "       0, 1, 0, 1, 1, 1, 0, 1, 0, 0, 1, 0, 0, 1, 1], dtype=int64)"
      ]
     },
     "execution_count": 83,
     "metadata": {},
     "output_type": "execute_result"
    }
   ],
   "source": [
    "y_pred_mlp"
   ]
  },
  {
   "cell_type": "markdown",
   "id": "83e80786",
   "metadata": {},
   "source": [
    "## K Nearest Neighbours (n=9)"
   ]
  },
  {
   "cell_type": "code",
   "execution_count": 84,
   "id": "f9b70604",
   "metadata": {},
   "outputs": [],
   "source": [
    "knn=KNeighborsClassifier(9)"
   ]
  },
  {
   "cell_type": "code",
   "execution_count": 85,
   "id": "74b3fd48",
   "metadata": {},
   "outputs": [
    {
     "data": {
      "text/plain": [
       "KNeighborsClassifier(n_neighbors=9)"
      ]
     },
     "execution_count": 85,
     "metadata": {},
     "output_type": "execute_result"
    }
   ],
   "source": [
    "knn.fit(xtrain,ytrain)"
   ]
  },
  {
   "cell_type": "code",
   "execution_count": 86,
   "id": "ca64fc75",
   "metadata": {},
   "outputs": [],
   "source": [
    "y_pred_knn=knn.predict(xtest)"
   ]
  },
  {
   "cell_type": "code",
   "execution_count": 87,
   "id": "4409c4b9",
   "metadata": {},
   "outputs": [
    {
     "data": {
      "text/plain": [
       "array([1, 1, 1, 1, 0, 0, 0, 1, 0, 1, 1, 1, 1, 0, 0, 1, 0, 1, 1, 0, 1, 1,\n",
       "       1, 0, 0, 0, 1, 0, 0, 1, 1, 1, 1, 0, 0, 0, 0, 1, 1, 1, 0, 1, 0, 1,\n",
       "       0, 0, 1, 0, 0, 0, 1, 0, 1, 0, 0, 0, 1, 1, 1, 0, 1, 1, 1, 1, 1, 1,\n",
       "       1, 0, 1, 0, 1, 0, 1, 1, 1, 1, 0, 0, 0, 0, 1, 1, 0, 1, 0, 1, 1, 0,\n",
       "       1, 0, 1, 0, 1, 0, 0, 1, 1, 0, 0, 1, 1, 1, 0, 0, 1, 1, 0, 1, 0, 1,\n",
       "       1, 1, 0, 1, 0, 1, 1, 1, 1, 1, 1, 1, 1, 1, 0, 0, 1, 1, 1, 0, 0, 1,\n",
       "       0, 1, 0, 1, 0, 1, 1, 1, 0, 1, 1, 0, 0, 1, 0, 0, 1, 1, 0, 1, 0, 0,\n",
       "       0, 0, 0, 1, 1, 0, 0, 1, 0, 1, 0, 0, 1, 1, 0, 1, 1, 1, 1, 1, 1, 1,\n",
       "       0, 1, 1, 1, 0, 1, 1, 1, 1, 1, 1, 1, 0, 1, 0, 0, 1, 1, 1, 1, 0, 1,\n",
       "       1, 1, 1, 1, 1, 1, 1, 1, 1, 0, 1, 1, 0, 1, 0, 0, 0, 0, 0, 1, 0, 1,\n",
       "       0, 1, 0, 1, 1, 1, 0, 1, 0, 0, 0, 0, 0, 1, 1], dtype=int64)"
      ]
     },
     "execution_count": 87,
     "metadata": {},
     "output_type": "execute_result"
    }
   ],
   "source": [
    "y_pred_knn"
   ]
  },
  {
   "cell_type": "markdown",
   "id": "614f2a54",
   "metadata": {},
   "source": [
    "## Extra Tree Classifier (n_estimator=100)"
   ]
  },
  {
   "cell_type": "code",
   "execution_count": 88,
   "id": "ff4210bf",
   "metadata": {},
   "outputs": [],
   "source": [
    "et_100=ExtraTreesClassifier(n_estimators=100)\n",
    "et_100.fit(xtrain,ytrain)\n",
    "y_pred_et_100=et_100.predict(xtest)"
   ]
  },
  {
   "cell_type": "code",
   "execution_count": 89,
   "id": "4e07a5df",
   "metadata": {},
   "outputs": [
    {
     "data": {
      "text/plain": [
       "array([0, 1, 1, 1, 0, 0, 0, 1, 0, 1, 1, 1, 1, 0, 0, 1, 0, 1, 1, 0, 0, 1,\n",
       "       1, 0, 0, 0, 1, 0, 0, 1, 1, 1, 1, 0, 0, 0, 0, 0, 1, 1, 1, 0, 0, 1,\n",
       "       1, 1, 1, 0, 0, 0, 1, 1, 1, 0, 0, 0, 0, 1, 0, 0, 1, 1, 1, 1, 1, 1,\n",
       "       1, 0, 1, 0, 1, 0, 1, 1, 1, 1, 0, 0, 0, 0, 1, 1, 0, 1, 0, 1, 0, 0,\n",
       "       0, 0, 0, 0, 1, 0, 0, 1, 1, 0, 0, 1, 1, 1, 0, 0, 1, 1, 0, 1, 0, 1,\n",
       "       1, 1, 0, 1, 0, 0, 1, 1, 1, 1, 1, 1, 1, 1, 0, 0, 1, 1, 1, 0, 0, 1,\n",
       "       0, 1, 0, 1, 0, 1, 1, 1, 0, 0, 1, 0, 0, 1, 1, 0, 1, 1, 1, 1, 0, 0,\n",
       "       0, 0, 0, 1, 1, 0, 1, 1, 0, 1, 0, 0, 1, 0, 0, 1, 1, 1, 1, 1, 1, 0,\n",
       "       0, 1, 0, 1, 0, 0, 1, 1, 1, 1, 1, 1, 0, 1, 0, 0, 1, 1, 1, 1, 0, 1,\n",
       "       1, 1, 0, 1, 1, 1, 0, 1, 1, 0, 1, 1, 0, 1, 0, 0, 0, 0, 0, 1, 0, 1,\n",
       "       0, 1, 0, 1, 0, 1, 1, 1, 0, 0, 1, 0, 0, 1, 1], dtype=int64)"
      ]
     },
     "execution_count": 89,
     "metadata": {},
     "output_type": "execute_result"
    }
   ],
   "source": [
    "y_pred_et_100"
   ]
  },
  {
   "cell_type": "markdown",
   "id": "4763876c",
   "metadata": {},
   "source": [
    "## XGBoost (n_estimators=500)"
   ]
  },
  {
   "cell_type": "code",
   "execution_count": 90,
   "id": "fead017d",
   "metadata": {},
   "outputs": [
    {
     "data": {
      "text/plain": [
       "XGBClassifier(base_score=0.5, booster='gbtree', callbacks=None,\n",
       "              colsample_bylevel=1, colsample_bynode=1, colsample_bytree=1,\n",
       "              early_stopping_rounds=None, enable_categorical=False,\n",
       "              eval_metric=None, gamma=0, gpu_id=-1, grow_policy='depthwise',\n",
       "              importance_type=None, interaction_constraints='',\n",
       "              learning_rate=0.300000012, max_bin=256, max_cat_to_onehot=4,\n",
       "              max_delta_step=0, max_depth=6, max_leaves=0, min_child_weight=1,\n",
       "              missing=nan, monotone_constraints='()', n_estimators=500,\n",
       "              n_jobs=0, num_parallel_tree=1, predictor='auto', random_state=0,\n",
       "              reg_alpha=0, reg_lambda=1, ...)"
      ]
     },
     "execution_count": 90,
     "metadata": {},
     "output_type": "execute_result"
    }
   ],
   "source": [
    "Xgb=xgb.XGBClassifier(n_estimators=500)\n",
    "Xgb.fit(xtrain,ytrain)"
   ]
  },
  {
   "cell_type": "code",
   "execution_count": 91,
   "id": "89eb0a29",
   "metadata": {},
   "outputs": [
    {
     "data": {
      "text/plain": [
       "array([0, 1, 1, 1, 0, 0, 0, 1, 0, 1, 1, 1, 1, 0, 0, 1, 0, 1, 1, 0, 1, 1,\n",
       "       1, 0, 0, 0, 1, 0, 0, 0, 1, 1, 1, 0, 0, 0, 0, 0, 1, 1, 0, 0, 0, 1,\n",
       "       0, 1, 1, 0, 0, 0, 1, 1, 1, 1, 0, 0, 0, 1, 1, 0, 1, 1, 1, 1, 1, 1,\n",
       "       1, 0, 1, 0, 1, 0, 1, 1, 1, 1, 0, 0, 0, 0, 1, 1, 0, 1, 0, 1, 0, 0,\n",
       "       0, 0, 1, 0, 1, 0, 0, 0, 1, 0, 0, 1, 1, 1, 0, 0, 1, 1, 0, 1, 0, 1,\n",
       "       1, 1, 0, 1, 0, 1, 1, 1, 1, 1, 0, 1, 1, 1, 0, 0, 0, 1, 1, 0, 0, 1,\n",
       "       0, 1, 0, 1, 0, 1, 1, 1, 0, 0, 1, 0, 0, 1, 1, 0, 1, 1, 1, 1, 0, 0,\n",
       "       0, 0, 0, 1, 1, 0, 1, 1, 0, 1, 0, 0, 1, 0, 0, 1, 1, 1, 1, 1, 1, 0,\n",
       "       0, 1, 0, 1, 0, 0, 1, 1, 1, 1, 1, 1, 0, 1, 0, 0, 1, 0, 1, 1, 0, 1,\n",
       "       1, 1, 0, 1, 1, 1, 0, 1, 1, 0, 1, 1, 0, 1, 0, 0, 0, 0, 0, 1, 0, 1,\n",
       "       0, 1, 0, 1, 0, 1, 1, 1, 0, 0, 1, 0, 0, 1, 1])"
      ]
     },
     "execution_count": 91,
     "metadata": {},
     "output_type": "execute_result"
    }
   ],
   "source": [
    "y_pred_xgb=Xgb.predict(xtest)\n",
    "y_pred_xgb"
   ]
  },
  {
   "cell_type": "markdown",
   "id": "d126e5cf",
   "metadata": {},
   "source": [
    "## Supper Vector Cllassifier (kernel='linear')"
   ]
  },
  {
   "cell_type": "code",
   "execution_count": 92,
   "id": "37a709ae",
   "metadata": {},
   "outputs": [
    {
     "data": {
      "text/plain": [
       "SVC(gamma='auto', kernel='linear', probability=True)"
      ]
     },
     "execution_count": 92,
     "metadata": {},
     "output_type": "execute_result"
    }
   ],
   "source": [
    "svc=SVC(kernel='linear',gamma='auto',probability=True)\n",
    "svc.fit(xtrain,ytrain)"
   ]
  },
  {
   "cell_type": "code",
   "execution_count": 93,
   "id": "d4b1cae2",
   "metadata": {},
   "outputs": [
    {
     "data": {
      "text/plain": [
       "array([1, 1, 1, 1, 0, 0, 0, 1, 0, 1, 1, 1, 1, 0, 0, 1, 0, 1, 1, 0, 0, 1,\n",
       "       1, 1, 0, 0, 1, 0, 0, 1, 1, 1, 1, 0, 1, 0, 0, 0, 1, 1, 0, 0, 0, 1,\n",
       "       1, 1, 1, 0, 0, 0, 1, 0, 1, 0, 0, 0, 0, 1, 0, 0, 1, 1, 1, 1, 1, 0,\n",
       "       1, 0, 1, 0, 1, 0, 1, 1, 1, 1, 0, 0, 0, 0, 1, 1, 0, 1, 0, 1, 0, 0,\n",
       "       1, 0, 1, 0, 1, 0, 0, 1, 1, 0, 0, 1, 1, 1, 0, 0, 1, 1, 0, 1, 0, 1,\n",
       "       1, 1, 0, 1, 0, 0, 1, 1, 1, 1, 0, 1, 1, 1, 0, 0, 1, 1, 1, 0, 0, 1,\n",
       "       0, 1, 0, 1, 0, 1, 1, 1, 0, 0, 1, 0, 0, 1, 1, 0, 1, 1, 0, 1, 0, 0,\n",
       "       0, 0, 0, 1, 1, 0, 1, 1, 0, 1, 0, 0, 1, 1, 0, 1, 1, 1, 1, 1, 1, 0,\n",
       "       0, 1, 1, 1, 0, 1, 1, 1, 1, 1, 1, 0, 0, 1, 0, 0, 1, 1, 1, 1, 1, 1,\n",
       "       1, 1, 1, 1, 1, 1, 0, 0, 1, 0, 1, 1, 0, 0, 0, 0, 0, 0, 0, 1, 0, 1,\n",
       "       0, 1, 0, 1, 1, 1, 0, 1, 0, 0, 1, 0, 0, 1, 1], dtype=int64)"
      ]
     },
     "execution_count": 93,
     "metadata": {},
     "output_type": "execute_result"
    }
   ],
   "source": [
    "y_pred_svc=svc.predict(xtest)\n",
    "y_pred_svc"
   ]
  },
  {
   "cell_type": "markdown",
   "id": "d9565eb9",
   "metadata": {},
   "source": [
    "## Stochaistic Gradient Descent"
   ]
  },
  {
   "cell_type": "code",
   "execution_count": 94,
   "id": "3ad6c1a6",
   "metadata": {},
   "outputs": [
    {
     "data": {
      "text/plain": [
       "SGDClassifier(tol=0.0001)"
      ]
     },
     "execution_count": 94,
     "metadata": {},
     "output_type": "execute_result"
    }
   ],
   "source": [
    "sgd=SGDClassifier(max_iter=1000,tol=1e-4)\n",
    "sgd.fit(xtrain,ytrain)"
   ]
  },
  {
   "cell_type": "code",
   "execution_count": 95,
   "id": "7dd81d23",
   "metadata": {},
   "outputs": [
    {
     "data": {
      "text/plain": [
       "array([1, 1, 1, 1, 0, 0, 0, 1, 0, 1, 1, 1, 1, 0, 0, 1, 0, 1, 1, 0, 0, 1,\n",
       "       1, 1, 0, 0, 1, 0, 0, 1, 1, 1, 1, 0, 1, 0, 0, 0, 1, 1, 0, 0, 0, 1,\n",
       "       1, 1, 1, 0, 0, 0, 1, 0, 1, 0, 0, 0, 0, 1, 0, 0, 1, 1, 1, 1, 1, 0,\n",
       "       0, 0, 1, 0, 1, 0, 1, 1, 1, 1, 0, 0, 0, 0, 1, 1, 0, 1, 0, 1, 0, 0,\n",
       "       1, 0, 1, 0, 1, 0, 0, 1, 1, 0, 0, 1, 1, 1, 0, 0, 1, 1, 0, 1, 0, 1,\n",
       "       1, 1, 0, 1, 0, 0, 1, 1, 1, 1, 0, 1, 1, 1, 0, 0, 1, 1, 1, 0, 0, 1,\n",
       "       0, 1, 0, 1, 0, 1, 1, 1, 0, 1, 1, 0, 0, 1, 1, 0, 1, 1, 0, 1, 0, 0,\n",
       "       0, 0, 0, 1, 1, 0, 1, 1, 0, 1, 0, 0, 1, 1, 0, 1, 1, 1, 1, 1, 1, 0,\n",
       "       0, 1, 1, 1, 0, 1, 1, 1, 1, 1, 1, 1, 0, 1, 0, 0, 1, 1, 1, 1, 1, 1,\n",
       "       1, 1, 1, 1, 1, 1, 0, 0, 1, 0, 1, 1, 0, 0, 0, 0, 0, 0, 0, 1, 0, 1,\n",
       "       0, 1, 0, 1, 1, 1, 0, 1, 0, 0, 1, 0, 0, 1, 1], dtype=int64)"
      ]
     },
     "execution_count": 95,
     "metadata": {},
     "output_type": "execute_result"
    }
   ],
   "source": [
    "y_pred_sgd=sgd.predict(xtest)\n",
    "y_pred_sgd"
   ]
  },
  {
   "cell_type": "markdown",
   "id": "57cdc0f7",
   "metadata": {},
   "source": [
    "## AdaBoost Classifier"
   ]
  },
  {
   "cell_type": "code",
   "execution_count": 96,
   "id": "e2cb55f2",
   "metadata": {},
   "outputs": [
    {
     "data": {
      "text/plain": [
       "AdaBoostClassifier()"
      ]
     },
     "execution_count": 96,
     "metadata": {},
     "output_type": "execute_result"
    }
   ],
   "source": [
    "ada=AdaBoostClassifier()\n",
    "ada.fit(xtrain,ytrain)"
   ]
  },
  {
   "cell_type": "code",
   "execution_count": 97,
   "id": "95c22d37",
   "metadata": {},
   "outputs": [
    {
     "data": {
      "text/plain": [
       "array([1, 1, 1, 1, 0, 0, 0, 1, 0, 1, 1, 1, 1, 0, 0, 1, 0, 1, 1, 0, 1, 1,\n",
       "       1, 1, 0, 0, 1, 0, 0, 1, 1, 1, 1, 0, 0, 0, 0, 0, 1, 1, 0, 0, 0, 1,\n",
       "       1, 1, 1, 0, 0, 0, 1, 0, 1, 0, 0, 0, 0, 1, 1, 0, 1, 1, 0, 1, 1, 0,\n",
       "       1, 0, 1, 1, 1, 0, 1, 1, 1, 1, 0, 0, 0, 0, 1, 1, 0, 1, 0, 1, 0, 0,\n",
       "       1, 0, 1, 0, 1, 0, 0, 1, 1, 0, 0, 1, 1, 1, 0, 0, 1, 1, 0, 1, 0, 1,\n",
       "       1, 1, 0, 1, 0, 1, 1, 1, 1, 1, 0, 1, 1, 1, 0, 0, 1, 1, 1, 0, 0, 1,\n",
       "       0, 1, 0, 1, 0, 1, 1, 1, 0, 1, 1, 0, 0, 1, 0, 0, 1, 1, 0, 1, 0, 0,\n",
       "       0, 0, 0, 1, 1, 0, 1, 1, 0, 1, 0, 0, 0, 1, 0, 1, 1, 1, 1, 1, 1, 0,\n",
       "       0, 1, 1, 1, 0, 1, 1, 1, 1, 0, 1, 1, 0, 1, 0, 0, 1, 1, 1, 1, 0, 1,\n",
       "       1, 1, 1, 1, 1, 1, 0, 0, 1, 0, 1, 1, 0, 0, 0, 0, 0, 0, 0, 1, 0, 1,\n",
       "       0, 1, 0, 1, 1, 1, 0, 1, 0, 0, 1, 0, 0, 1, 1], dtype=int64)"
      ]
     },
     "execution_count": 97,
     "metadata": {},
     "output_type": "execute_result"
    }
   ],
   "source": [
    "y_pred_ada=ada.predict(xtest)\n",
    "y_pred_ada"
   ]
  },
  {
   "cell_type": "markdown",
   "id": "d1ca7a42",
   "metadata": {},
   "source": [
    "## Decision Tree Classifier (CART)"
   ]
  },
  {
   "cell_type": "code",
   "execution_count": 98,
   "id": "8ede6f04",
   "metadata": {},
   "outputs": [],
   "source": [
    "decc=DecisionTreeClassifier()"
   ]
  },
  {
   "cell_type": "code",
   "execution_count": 99,
   "id": "ae160956",
   "metadata": {},
   "outputs": [
    {
     "data": {
      "text/plain": [
       "DecisionTreeClassifier()"
      ]
     },
     "execution_count": 99,
     "metadata": {},
     "output_type": "execute_result"
    }
   ],
   "source": [
    "decc.fit(xtrain,ytrain)"
   ]
  },
  {
   "cell_type": "code",
   "execution_count": 100,
   "id": "2a79481e",
   "metadata": {},
   "outputs": [],
   "source": [
    "y_pred_decc=decc.predict(xtest)"
   ]
  },
  {
   "cell_type": "code",
   "execution_count": 101,
   "id": "2d28f3a0",
   "metadata": {},
   "outputs": [
    {
     "data": {
      "text/plain": [
       "array([0, 1, 1, 1, 0, 0, 0, 1, 0, 1, 1, 1, 1, 0, 0, 0, 0, 1, 1, 0, 0, 1,\n",
       "       1, 0, 0, 0, 1, 0, 0, 1, 0, 1, 0, 0, 0, 0, 0, 0, 1, 1, 0, 0, 0, 1,\n",
       "       0, 1, 1, 0, 1, 1, 1, 1, 1, 1, 0, 0, 0, 1, 0, 0, 1, 1, 1, 1, 1, 1,\n",
       "       0, 0, 1, 0, 1, 0, 1, 1, 1, 1, 0, 0, 0, 0, 1, 1, 0, 1, 0, 1, 0, 0,\n",
       "       0, 0, 1, 0, 1, 0, 0, 0, 1, 0, 0, 1, 1, 1, 0, 0, 1, 1, 0, 1, 0, 1,\n",
       "       0, 1, 0, 1, 0, 0, 1, 1, 1, 1, 0, 1, 1, 1, 0, 1, 1, 1, 0, 0, 0, 1,\n",
       "       0, 1, 0, 1, 0, 1, 1, 1, 0, 0, 1, 0, 0, 1, 1, 0, 1, 1, 1, 1, 0, 0,\n",
       "       0, 0, 0, 1, 1, 0, 1, 1, 0, 1, 0, 0, 1, 0, 0, 1, 1, 1, 1, 1, 1, 0,\n",
       "       0, 1, 0, 1, 0, 0, 1, 1, 1, 1, 1, 1, 0, 1, 0, 0, 1, 0, 0, 1, 0, 0,\n",
       "       1, 1, 0, 1, 0, 1, 0, 0, 1, 0, 1, 1, 0, 1, 0, 0, 0, 0, 0, 0, 0, 1,\n",
       "       0, 1, 0, 1, 0, 1, 1, 1, 0, 0, 1, 0, 0, 1, 0], dtype=int64)"
      ]
     },
     "execution_count": 101,
     "metadata": {},
     "output_type": "execute_result"
    }
   ],
   "source": [
    "y_pred_decc"
   ]
  },
  {
   "cell_type": "markdown",
   "id": "5e8671dd",
   "metadata": {},
   "source": [
    "## Gradient Boosting Machine"
   ]
  },
  {
   "cell_type": "code",
   "execution_count": 102,
   "id": "b220c9ab",
   "metadata": {},
   "outputs": [
    {
     "data": {
      "text/plain": [
       "GradientBoostingClassifier(max_features='sqrt')"
      ]
     },
     "execution_count": 102,
     "metadata": {},
     "output_type": "execute_result"
    }
   ],
   "source": [
    "gbm=GradientBoostingClassifier(n_estimators=100,max_features='sqrt')\n",
    "gbm.fit(xtrain,ytrain)"
   ]
  },
  {
   "cell_type": "code",
   "execution_count": 103,
   "id": "4afec03d",
   "metadata": {},
   "outputs": [
    {
     "data": {
      "text/plain": [
       "array([1, 1, 1, 1, 0, 0, 0, 1, 0, 1, 1, 1, 1, 0, 0, 1, 0, 1, 1, 0, 1, 1,\n",
       "       1, 0, 0, 0, 1, 0, 0, 1, 1, 1, 1, 0, 0, 0, 0, 0, 1, 1, 0, 0, 0, 1,\n",
       "       1, 1, 1, 0, 0, 0, 1, 0, 1, 0, 0, 0, 0, 1, 1, 0, 1, 1, 1, 1, 1, 0,\n",
       "       1, 0, 1, 0, 1, 0, 1, 1, 1, 1, 0, 0, 0, 0, 1, 1, 0, 1, 0, 1, 0, 0,\n",
       "       1, 0, 1, 0, 1, 0, 0, 1, 1, 0, 0, 1, 1, 1, 0, 0, 1, 1, 0, 1, 0, 1,\n",
       "       1, 1, 0, 1, 0, 1, 1, 1, 1, 1, 0, 1, 1, 1, 0, 0, 1, 1, 1, 0, 0, 1,\n",
       "       0, 1, 0, 1, 0, 1, 1, 1, 0, 1, 1, 0, 0, 1, 0, 0, 1, 1, 0, 1, 0, 0,\n",
       "       0, 0, 0, 1, 1, 0, 1, 1, 0, 1, 0, 0, 1, 1, 0, 1, 1, 1, 1, 1, 1, 0,\n",
       "       0, 1, 1, 1, 0, 0, 1, 1, 1, 1, 1, 1, 0, 1, 0, 0, 1, 1, 1, 1, 0, 1,\n",
       "       1, 1, 0, 1, 1, 1, 0, 1, 1, 0, 1, 1, 0, 0, 0, 0, 0, 0, 0, 1, 0, 1,\n",
       "       0, 1, 0, 1, 1, 1, 1, 1, 0, 0, 1, 0, 0, 1, 1], dtype=int64)"
      ]
     },
     "execution_count": 103,
     "metadata": {},
     "output_type": "execute_result"
    }
   ],
   "source": [
    "y_pred_gbm=gbm.predict(xtest)\n",
    "y_pred_gbm"
   ]
  },
  {
   "cell_type": "markdown",
   "id": "41a6cf1a",
   "metadata": {},
   "source": [
    "## Model Evaluation"
   ]
  },
  {
   "cell_type": "code",
   "execution_count": 104,
   "id": "b2e4f770",
   "metadata": {},
   "outputs": [
    {
     "data": {
      "text/html": [
       "<div>\n",
       "<style scoped>\n",
       "    .dataframe tbody tr th:only-of-type {\n",
       "        vertical-align: middle;\n",
       "    }\n",
       "\n",
       "    .dataframe tbody tr th {\n",
       "        vertical-align: top;\n",
       "    }\n",
       "\n",
       "    .dataframe thead th {\n",
       "        text-align: right;\n",
       "    }\n",
       "</style>\n",
       "<table border=\"1\" class=\"dataframe\">\n",
       "  <thead>\n",
       "    <tr style=\"text-align: right;\">\n",
       "      <th></th>\n",
       "      <th>Model</th>\n",
       "      <th>Accuracy</th>\n",
       "      <th>Precision</th>\n",
       "      <th>Sensitivity</th>\n",
       "      <th>Specificity</th>\n",
       "      <th>F1 Score</th>\n",
       "      <th>ROC</th>\n",
       "      <th>Log Loss</th>\n",
       "      <th>Mathew</th>\n",
       "    </tr>\n",
       "  </thead>\n",
       "  <tbody>\n",
       "    <tr>\n",
       "      <th>0</th>\n",
       "      <td>Random Forest</td>\n",
       "      <td>0.948936</td>\n",
       "      <td>0.931298</td>\n",
       "      <td>0.976</td>\n",
       "      <td>0.918182</td>\n",
       "      <td>0.953125</td>\n",
       "      <td>0.947091</td>\n",
       "      <td>1.763713</td>\n",
       "      <td>0.898307</td>\n",
       "    </tr>\n",
       "  </tbody>\n",
       "</table>\n",
       "</div>"
      ],
      "text/plain": [
       "           Model  Accuracy  Precision  Sensitivity  Specificity  F1 Score  \\\n",
       "0  Random Forest  0.948936   0.931298        0.976     0.918182  0.953125   \n",
       "\n",
       "        ROC  Log Loss    Mathew  \n",
       "0  0.947091  1.763713  0.898307  "
      ]
     },
     "execution_count": 104,
     "metadata": {},
     "output_type": "execute_result"
    },
    {
     "data": {
      "image/png": "[encoded data removed]",
      "text/plain": [
       "<Figure size 432x288 with 2 Axes>"
      ]
     },
     "metadata": {
      "needs_background": "light"
     },
     "output_type": "display_data"
    }
   ],
   "source": [
    "cm=confusion_matrix(ytest,y_pred_rfe)\n",
    "sns.heatmap(cm,annot=True)\n",
    "TN=cm[0][0]\n",
    "FN=cm[1][0]\n",
    "TP=cm[1][1]\n",
    "FP=cm[0][1]\n",
    "specificity=TN/(TN+FP)\n",
    "loss_log=log_loss(ytest,y_pred_rfe)\n",
    "acc=accuracy_score(ytest,y_pred_rfe)\n",
    "roc=roc_auc_score(ytest,y_pred_rfe)\n",
    "prec=precision_score(ytest,y_pred_rfe)\n",
    "rec=recall_score(ytest,y_pred_rfe)\n",
    "f1=f1_score(ytest,y_pred_rfe)\n",
    "\n",
    "mathew=matthews_corrcoef(ytest,y_pred_rfe)\n",
    "model_results=pd.DataFrame([['Random Forest',acc,prec,rec,specificity,f1,roc,loss_log,mathew]],\n",
    "                          columns=['Model','Accuracy','Precision','Sensitivity','Specificity','F1 Score','ROC','Log Loss','Mathew'])\n",
    "model_results"
   ]
  },
  {
   "cell_type": "markdown",
   "id": "1db75bb9",
   "metadata": {},
   "source": [
    "## Comaprision with other models"
   ]
  },
  {
   "cell_type": "code",
   "execution_count": 105,
   "id": "02c7e725",
   "metadata": {},
   "outputs": [
    {
     "data": {
      "text/html": [
       "<div>\n",
       "<style scoped>\n",
       "    .dataframe tbody tr th:only-of-type {\n",
       "        vertical-align: middle;\n",
       "    }\n",
       "\n",
       "    .dataframe tbody tr th {\n",
       "        vertical-align: top;\n",
       "    }\n",
       "\n",
       "    .dataframe thead th {\n",
       "        text-align: right;\n",
       "    }\n",
       "</style>\n",
       "<table border=\"1\" class=\"dataframe\">\n",
       "  <thead>\n",
       "    <tr style=\"text-align: right;\">\n",
       "      <th></th>\n",
       "      <th>Model</th>\n",
       "      <th>Accuracy</th>\n",
       "      <th>Precision</th>\n",
       "      <th>Sensitivity</th>\n",
       "      <th>Specificity</th>\n",
       "      <th>F1 Score</th>\n",
       "      <th>ROC</th>\n",
       "      <th>Log Loss</th>\n",
       "      <th>Mathew</th>\n",
       "    </tr>\n",
       "  </thead>\n",
       "  <tbody>\n",
       "    <tr>\n",
       "      <th>0</th>\n",
       "      <td>Random Forest</td>\n",
       "      <td>0.948936</td>\n",
       "      <td>0.931298</td>\n",
       "      <td>0.976</td>\n",
       "      <td>0.918182</td>\n",
       "      <td>0.953125</td>\n",
       "      <td>0.947091</td>\n",
       "      <td>1.763713</td>\n",
       "      <td>0.898307</td>\n",
       "    </tr>\n",
       "    <tr>\n",
       "      <th>1</th>\n",
       "      <td>MLP</td>\n",
       "      <td>0.889362</td>\n",
       "      <td>0.883721</td>\n",
       "      <td>0.912</td>\n",
       "      <td>0.863636</td>\n",
       "      <td>0.897638</td>\n",
       "      <td>0.887818</td>\n",
       "      <td>3.821362</td>\n",
       "      <td>0.777789</td>\n",
       "    </tr>\n",
       "    <tr>\n",
       "      <th>2</th>\n",
       "      <td>KNN</td>\n",
       "      <td>0.868085</td>\n",
       "      <td>0.840580</td>\n",
       "      <td>0.928</td>\n",
       "      <td>0.800000</td>\n",
       "      <td>0.882129</td>\n",
       "      <td>0.864000</td>\n",
       "      <td>4.556254</td>\n",
       "      <td>0.737832</td>\n",
       "    </tr>\n",
       "    <tr>\n",
       "      <th>3</th>\n",
       "      <td>Extra Tree Classifier</td>\n",
       "      <td>0.940426</td>\n",
       "      <td>0.930233</td>\n",
       "      <td>0.960</td>\n",
       "      <td>0.918182</td>\n",
       "      <td>0.944882</td>\n",
       "      <td>0.939091</td>\n",
       "      <td>2.057660</td>\n",
       "      <td>0.880619</td>\n",
       "    </tr>\n",
       "    <tr>\n",
       "      <th>4</th>\n",
       "      <td>XGB</td>\n",
       "      <td>0.948936</td>\n",
       "      <td>0.944882</td>\n",
       "      <td>0.960</td>\n",
       "      <td>0.936364</td>\n",
       "      <td>0.952381</td>\n",
       "      <td>0.948182</td>\n",
       "      <td>1.763706</td>\n",
       "      <td>0.897474</td>\n",
       "    </tr>\n",
       "    <tr>\n",
       "      <th>5</th>\n",
       "      <td>SVC</td>\n",
       "      <td>0.872340</td>\n",
       "      <td>0.862595</td>\n",
       "      <td>0.904</td>\n",
       "      <td>0.836364</td>\n",
       "      <td>0.882813</td>\n",
       "      <td>0.870182</td>\n",
       "      <td>4.409267</td>\n",
       "      <td>0.743779</td>\n",
       "    </tr>\n",
       "    <tr>\n",
       "      <th>6</th>\n",
       "      <td>SGD</td>\n",
       "      <td>0.876596</td>\n",
       "      <td>0.863636</td>\n",
       "      <td>0.912</td>\n",
       "      <td>0.836364</td>\n",
       "      <td>0.887160</td>\n",
       "      <td>0.874182</td>\n",
       "      <td>4.262293</td>\n",
       "      <td>0.752590</td>\n",
       "    </tr>\n",
       "    <tr>\n",
       "      <th>7</th>\n",
       "      <td>AdaBoost</td>\n",
       "      <td>0.863830</td>\n",
       "      <td>0.854962</td>\n",
       "      <td>0.896</td>\n",
       "      <td>0.827273</td>\n",
       "      <td>0.875000</td>\n",
       "      <td>0.861636</td>\n",
       "      <td>4.703217</td>\n",
       "      <td>0.726610</td>\n",
       "    </tr>\n",
       "    <tr>\n",
       "      <th>8</th>\n",
       "      <td>CART</td>\n",
       "      <td>0.880851</td>\n",
       "      <td>0.914530</td>\n",
       "      <td>0.856</td>\n",
       "      <td>0.909091</td>\n",
       "      <td>0.884298</td>\n",
       "      <td>0.882545</td>\n",
       "      <td>4.115292</td>\n",
       "      <td>0.763538</td>\n",
       "    </tr>\n",
       "    <tr>\n",
       "      <th>9</th>\n",
       "      <td>GBM</td>\n",
       "      <td>0.902128</td>\n",
       "      <td>0.886364</td>\n",
       "      <td>0.936</td>\n",
       "      <td>0.863636</td>\n",
       "      <td>0.910506</td>\n",
       "      <td>0.899818</td>\n",
       "      <td>3.380442</td>\n",
       "      <td>0.804152</td>\n",
       "    </tr>\n",
       "  </tbody>\n",
       "</table>\n",
       "</div>"
      ],
      "text/plain": [
       "                   Model  Accuracy  Precision  Sensitivity  Specificity  \\\n",
       "0          Random Forest  0.948936   0.931298        0.976     0.918182   \n",
       "1                    MLP  0.889362   0.883721        0.912     0.863636   \n",
       "2                    KNN  0.868085   0.840580        0.928     0.800000   \n",
       "3  Extra Tree Classifier  0.940426   0.930233        0.960     0.918182   \n",
       "4                    XGB  0.948936   0.944882        0.960     0.936364   \n",
       "5                    SVC  0.872340   0.862595        0.904     0.836364   \n",
       "6                    SGD  0.876596   0.863636        0.912     0.836364   \n",
       "7               AdaBoost  0.863830   0.854962        0.896     0.827273   \n",
       "8                   CART  0.880851   0.914530        0.856     0.909091   \n",
       "9                    GBM  0.902128   0.886364        0.936     0.863636   \n",
       "\n",
       "   F1 Score       ROC  Log Loss    Mathew  \n",
       "0  0.953125  0.947091  1.763713  0.898307  \n",
       "1  0.897638  0.887818  3.821362  0.777789  \n",
       "2  0.882129  0.864000  4.556254  0.737832  \n",
       "3  0.944882  0.939091  2.057660  0.880619  \n",
       "4  0.952381  0.948182  1.763706  0.897474  \n",
       "5  0.882813  0.870182  4.409267  0.743779  \n",
       "6  0.887160  0.874182  4.262293  0.752590  \n",
       "7  0.875000  0.861636  4.703217  0.726610  \n",
       "8  0.884298  0.882545  4.115292  0.763538  \n",
       "9  0.910506  0.899818  3.380442  0.804152  "
      ]
     },
     "execution_count": 105,
     "metadata": {},
     "output_type": "execute_result"
    }
   ],
   "source": [
    "data={'MLP':y_pred_mlp,\n",
    "     'KNN':y_pred_knn,\n",
    "     'Extra Tree Classifier':y_pred_et_100,\n",
    "     'XGB':y_pred_xgb,\n",
    "     'SVC':y_pred_svc,\n",
    "     'SGD':y_pred_sgd,\n",
    "     'AdaBoost':y_pred_ada,\n",
    "     'CART':y_pred_decc,\n",
    "     'GBM':y_pred_gbm}\n",
    "\n",
    "models=pd.DataFrame(data)\n",
    "\n",
    "for column in models:\n",
    "    cm=confusion_matrix(ytest,models[column])\n",
    "    TN=cm[0][0]\n",
    "    FN=cm[1][0]\n",
    "    TP=cm[1][1]\n",
    "    FP=cm[0][1]\n",
    "    specificity=TN/(TN+FP)\n",
    "    loss_log=log_loss(ytest,models[column])\n",
    "    acc=accuracy_score(ytest,models[column])\n",
    "    roc=roc_auc_score(ytest,models[column])\n",
    "    prec=precision_score(ytest,models[column])\n",
    "    rec=recall_score(ytest,models[column])\n",
    "    f1=f1_score(ytest,models[column])\n",
    "    \n",
    "    \n",
    "    mathew=matthews_corrcoef(ytest,models[column])\n",
    "    results=pd.DataFrame([[column,acc,prec,rec,specificity,f1,roc,loss_log,mathew]],\n",
    "                          columns=['Model','Accuracy','Precision','Sensitivity','Specificity','F1 Score','ROC','Log Loss','Mathew'])\n",
    "    model_results=model_results.append(results,ignore_index=True)\n",
    "model_results"
   ]
  },
  {
   "cell_type": "markdown",
   "id": "bf1d2b89",
   "metadata": {},
   "source": [
    "## ROC AUC Curve"
   ]
  },
  {
   "cell_type": "code",
   "execution_count": 106,
   "id": "15aa8e07",
   "metadata": {},
   "outputs": [
    {
     "data": {
      "text/plain": [
       "Text(0.5, 1.0, 'Receiver Operator Characteristic curves')"
      ]
     },
     "execution_count": 106,
     "metadata": {},
     "output_type": "execute_result"
    },
    {
     "data": {
      "image/png": "[encoded data removed]",
      "text/plain": [
       "<Figure size 864x576 with 1 Axes>"
      ]
     },
     "metadata": {
      "needs_background": "light"
     },
     "output_type": "display_data"
    }
   ],
   "source": [
    "def roc_auc_plot(ytrue,yproba,label=' ',l='-',lw=1.0):\n",
    "    from sklearn.metrics import roc_curve,roc_auc_score\n",
    "    fpr,tpr,_=roc_curve(ytrue,yproba[:,1])\n",
    "    ax.plot(fpr,tpr,linestyle=l,linewidth=lw,label=\"%s (area=%.3f)\"%(label,roc_auc_score(ytrue,yproba[:,1])))\n",
    "\n",
    "f,ax=plt.subplots(figsize=(12,8))\n",
    "roc_auc_plot(ytest,rf_ent.predict_proba(xtest),label='Random Forest Classifier',l='-')\n",
    "roc_auc_plot(ytest,et_100.predict_proba(xtest),label='Extra Tree Classifier',l='-')\n",
    "roc_auc_plot(ytest,Xgb.predict_proba(xtest),label='XGBoost',l='-')\n",
    "ax.plot([0,1],[0,1],color='k',linewidth=0.5,linestyle='--')\n",
    "ax.legend(loc='lower right')\n",
    "ax.set_xlabel('False Positive Rate')\n",
    "ax.set_ylabel('True Positive Rate')\n",
    "ax.set_xlim([0,1])\n",
    "ax.set_ylim([0,1])\n",
    "ax.set_title('Receiver Operator Characteristic curves')"
   ]
  },
  {
   "cell_type": "code",
   "execution_count": 107,
   "id": "dc70b632",
   "metadata": {},
   "outputs": [
    {
     "data": {
      "image/png": "[encoded data removed]",
      "text/plain": [
       "<Figure size 1008x720 with 1 Axes>"
      ]
     },
     "metadata": {
      "needs_background": "light"
     },
     "output_type": "display_data"
    }
   ],
   "source": [
    "def precision_recall_plot(ytrue,yproba,label=\" \",l='-',lw=1.0):\n",
    "    from sklearn.metrics import precision_recall_curve,average_precision_score\n",
    "    precision,recall,_=precision_recall_curve(ytest,yproba[:,1])\n",
    "    average_precision=average_precision_score(ytest,yproba[:,1])\n",
    "    ax.plot(recall,precision,label=\"%s (average=%.3f)\"%(label,average_precision),\n",
    "            linestyle=l,linewidth=lw)\n",
    "f,ax=plt.subplots(figsize=(14,10))\n",
    "precision_recall_plot(ytest,rf_ent.predict_proba(xtest),label='Random Forest Classifier',l='-')\n",
    "precision_recall_plot(ytest,et_100.predict_proba(xtest),label='Extra Tree Classifier',l='-')\n",
    "precision_recall_plot(ytest,Xgb.predict_proba(xtest),label='XGBoost',l='-')\n",
    "\n",
    "ax.legend(loc='lower left')\n",
    "ax.set_xlabel('Recall')\n",
    "ax.set_ylabel('Precision')\n",
    "ax.set_xlim([0,1])\n",
    "ax.grid(True)\n",
    "ax.set_ylim([0,1])\n",
    "ax.set_title('Precision-Recall Curves')\n",
    "sns.despine()"
   ]
  },
  {
   "cell_type": "code",
   "execution_count": 108,
   "id": "bc0a03bc",
   "metadata": {},
   "outputs": [
    {
     "name": "stdout",
     "output_type": "stream",
     "text": [
      "11 selected features\n"
     ]
    }
   ],
   "source": [
    "num_feats=11\n",
    "def cor_selector(X,Y,num_feats):\n",
    "    cor_list=[]\n",
    "    feature_name=X.columns.tolist()\n",
    "    #Calculate the correlation with y for each feature\n",
    "    for i in X.columns.tolist():\n",
    "        cor=np.corrcoef(X[i],Y)[0,1]\n",
    "        cor_list.append(cor)\n",
    "    #Replace NaN with 0\n",
    "    cor_list=[0 if np.isnan(i) else i for i in cor_list]\n",
    "    #feature name\n",
    "    cor_feature=X.iloc[:,np.argsort(np.abs(cor_list))[-num_feats:]].columns.tolist()\n",
    "    #feature Selection? 0 for not select, 1 for select\n",
    "    cor_support=[True if i in cor_feature else False for i in feature_name]\n",
    "    return cor_support,cor_feature\n",
    "cor_support,cor_feature=cor_selector(X,Y,num_feats)\n",
    "print(str(len(cor_feature)),'selected features')"
   ]
  },
  {
   "cell_type": "code",
   "execution_count": 109,
   "id": "599b0504",
   "metadata": {},
   "outputs": [],
   "source": [
    "from sklearn.feature_selection import SelectKBest\n",
    "from sklearn.feature_selection import chi2\n",
    "from sklearn.preprocessing import MinMaxScaler"
   ]
  },
  {
   "cell_type": "code",
   "execution_count": 110,
   "id": "d90cdfda",
   "metadata": {},
   "outputs": [],
   "source": [
    "X_norm=MinMaxScaler().fit_transform(X)"
   ]
  },
  {
   "cell_type": "code",
   "execution_count": 111,
   "id": "b2b848cc",
   "metadata": {},
   "outputs": [],
   "source": [
    "chi_selector=SelectKBest(chi2,k=num_feats)"
   ]
  },
  {
   "cell_type": "code",
   "execution_count": 112,
   "id": "9834ae38",
   "metadata": {},
   "outputs": [
    {
     "data": {
      "text/plain": [
       "SelectKBest(k=11, score_func=<function chi2 at 0x0000024E43F1EB80>)"
      ]
     },
     "execution_count": 112,
     "metadata": {},
     "output_type": "execute_result"
    }
   ],
   "source": [
    "chi_selector.fit(X_norm,Y)"
   ]
  },
  {
   "cell_type": "code",
   "execution_count": 113,
   "id": "625d42e0",
   "metadata": {},
   "outputs": [],
   "source": [
    "chi_support=chi_selector.get_support()"
   ]
  },
  {
   "cell_type": "code",
   "execution_count": 114,
   "id": "f08481f7",
   "metadata": {},
   "outputs": [],
   "source": [
    "chi_feature=X.loc[:,chi_support].columns.tolist()"
   ]
  },
  {
   "cell_type": "code",
   "execution_count": 115,
   "id": "86353cf7",
   "metadata": {},
   "outputs": [
    {
     "name": "stdout",
     "output_type": "stream",
     "text": [
      "11 selected features\n"
     ]
    }
   ],
   "source": [
    "print(str(len(chi_feature)),'selected features')"
   ]
  },
  {
   "cell_type": "code",
   "execution_count": 116,
   "id": "72ac706a",
   "metadata": {},
   "outputs": [],
   "source": [
    "from sklearn.feature_selection import RFE"
   ]
  },
  {
   "cell_type": "code",
   "execution_count": 117,
   "id": "6e5b8284",
   "metadata": {},
   "outputs": [],
   "source": [
    "from sklearn.linear_model import LogisticRegression"
   ]
  },
  {
   "cell_type": "code",
   "execution_count": 118,
   "id": "3d7781bb",
   "metadata": {},
   "outputs": [],
   "source": [
    "rfe_selector=RFE(estimator=LogisticRegression(),n_features_to_select=num_feats,\n",
    "                step=10,verbose=5)"
   ]
  },
  {
   "cell_type": "code",
   "execution_count": 119,
   "id": "082cf8b4",
   "metadata": {},
   "outputs": [
    {
     "name": "stdout",
     "output_type": "stream",
     "text": [
      "Fitting estimator with 15 features.\n"
     ]
    },
    {
     "data": {
      "text/plain": [
       "RFE(estimator=LogisticRegression(), n_features_to_select=11, step=10, verbose=5)"
      ]
     },
     "execution_count": 119,
     "metadata": {},
     "output_type": "execute_result"
    }
   ],
   "source": [
    "rfe_selector.fit(X_norm,Y)"
   ]
  },
  {
   "cell_type": "code",
   "execution_count": 120,
   "id": "5c6750fe",
   "metadata": {},
   "outputs": [],
   "source": [
    "rfe_support=rfe_selector.get_support()"
   ]
  },
  {
   "cell_type": "code",
   "execution_count": 121,
   "id": "242d9d80",
   "metadata": {},
   "outputs": [],
   "source": [
    "rfe_feature=X.loc[:,rfe_support].columns.tolist()"
   ]
  },
  {
   "cell_type": "code",
   "execution_count": 122,
   "id": "88598ab6",
   "metadata": {},
   "outputs": [
    {
     "name": "stdout",
     "output_type": "stream",
     "text": [
      "11 selected features\n"
     ]
    }
   ],
   "source": [
    "print(str(len(rfe_feature)),'selected features')"
   ]
  },
  {
   "cell_type": "code",
   "execution_count": 123,
   "id": "69145453",
   "metadata": {},
   "outputs": [],
   "source": [
    "from sklearn.feature_selection import SelectFromModel\n",
    "from sklearn.linear_model import LogisticRegression"
   ]
  },
  {
   "cell_type": "code",
   "execution_count": 124,
   "id": "f85115e4",
   "metadata": {},
   "outputs": [],
   "source": [
    "embeded_lr_selector=SelectFromModel(LogisticRegression(penalty='l2',solver='lbfgs'),max_features=num_feats)"
   ]
  },
  {
   "cell_type": "code",
   "execution_count": 125,
   "id": "bc7e2c75",
   "metadata": {},
   "outputs": [
    {
     "data": {
      "text/plain": [
       "SelectFromModel(estimator=LogisticRegression(), max_features=11)"
      ]
     },
     "execution_count": 125,
     "metadata": {},
     "output_type": "execute_result"
    }
   ],
   "source": [
    "embeded_lr_selector.fit(X_norm,Y)"
   ]
  },
  {
   "cell_type": "code",
   "execution_count": 126,
   "id": "257709a2",
   "metadata": {},
   "outputs": [],
   "source": [
    "embeded_lr_support=embeded_lr_selector.get_support()"
   ]
  },
  {
   "cell_type": "code",
   "execution_count": 127,
   "id": "dc22fa7a",
   "metadata": {},
   "outputs": [],
   "source": [
    "embeded_lr_feature=X.loc[:,embeded_lr_support].columns.tolist()"
   ]
  },
  {
   "cell_type": "code",
   "execution_count": 128,
   "id": "19f5faa8",
   "metadata": {},
   "outputs": [
    {
     "name": "stdout",
     "output_type": "stream",
     "text": [
      "6 selected features\n"
     ]
    }
   ],
   "source": [
    "print(str(len(embeded_lr_feature)),'selected features')"
   ]
  },
  {
   "cell_type": "code",
   "execution_count": 129,
   "id": "30f3c6c1",
   "metadata": {},
   "outputs": [
    {
     "name": "stdout",
     "output_type": "stream",
     "text": [
      "8 selected features\n"
     ]
    }
   ],
   "source": [
    "from sklearn.feature_selection import SelectFromModel\n",
    "from sklearn.ensemble import RandomForestClassifier\n",
    "\n",
    "embeded_rf_selector=SelectFromModel(RandomForestClassifier(n_estimators=100,criterion='gini'),max_features=num_feats)\n",
    "embeded_rf_selector.fit(X,Y)\n",
    "embeded_rf_support=embeded_rf_selector.get_support()\n",
    "embeded_rf_feature=X.loc[:,embeded_rf_support].columns.tolist()\n",
    "print(str(len(embeded_rf_feature)),'selected features')"
   ]
  },
  {
   "cell_type": "code",
   "execution_count": 130,
   "id": "81bb3ab8",
   "metadata": {},
   "outputs": [
    {
     "name": "stdout",
     "output_type": "stream",
     "text": [
      "7 selected features\n"
     ]
    }
   ],
   "source": [
    "from sklearn.feature_selection import SelectFromModel\n",
    "from lightgbm import LGBMClassifier\n",
    "\n",
    "lgbc=LGBMClassifier(n_estimators=500,learning_rate=0.05,num_leaves=32,colsample_bytree=0.2,\n",
    "                   reg_alpha=3,reg_lambda=1,min_split_gain=0.01,min_child_weight=40)\n",
    "embeded_lgbc_selector=SelectFromModel(lgbc,max_features=num_feats)\n",
    "embeded_lgbc_selector.fit(X,Y)\n",
    "embeded_lgbc_support=embeded_lgbc_selector.get_support()\n",
    "embeded_lgbc_feature=X.loc[:,embeded_lgbc_support].columns.tolist()\n",
    "print(str(len(embeded_lgbc_feature)),'selected features')"
   ]
  },
  {
   "cell_type": "code",
   "execution_count": 132,
   "id": "61ebf50d",
   "metadata": {},
   "outputs": [],
   "source": [
    "#put all selection together\n",
    "feature_name=X.columns\n",
    "feature_selection_df=pd.DataFrame({'Feature':feature_name,'Pearson':cor_support,'Chi-2':chi_support,'RFE':rfe_support, 'Logistics':embeded_lr_support,\n",
    "                                  'Random Forest':embeded_rf_support,'LightGBM':embeded_lgbc_support})"
   ]
  },
  {
   "cell_type": "code",
   "execution_count": 133,
   "id": "42236297",
   "metadata": {},
   "outputs": [],
   "source": [
    "#count the selected times for each feature\n",
    "feature_selection_df['total']=np.sum(feature_selection_df,axis=1)"
   ]
  },
  {
   "cell_type": "code",
   "execution_count": 134,
   "id": "71f1d0f6",
   "metadata": {},
   "outputs": [
    {
     "data": {
      "text/html": [
       "<div>\n",
       "<style scoped>\n",
       "    .dataframe tbody tr th:only-of-type {\n",
       "        vertical-align: middle;\n",
       "    }\n",
       "\n",
       "    .dataframe tbody tr th {\n",
       "        vertical-align: top;\n",
       "    }\n",
       "\n",
       "    .dataframe thead th {\n",
       "        text-align: right;\n",
       "    }\n",
       "</style>\n",
       "<table border=\"1\" class=\"dataframe\">\n",
       "  <thead>\n",
       "    <tr style=\"text-align: right;\">\n",
       "      <th></th>\n",
       "      <th>Feature</th>\n",
       "      <th>Pearson</th>\n",
       "      <th>Chi-2</th>\n",
       "      <th>RFE</th>\n",
       "      <th>Logistics</th>\n",
       "      <th>Random Forest</th>\n",
       "      <th>LightGBM</th>\n",
       "      <th>total</th>\n",
       "    </tr>\n",
       "  </thead>\n",
       "  <tbody>\n",
       "    <tr>\n",
       "      <th>1</th>\n",
       "      <td>st_depression</td>\n",
       "      <td>True</td>\n",
       "      <td>True</td>\n",
       "      <td>True</td>\n",
       "      <td>True</td>\n",
       "      <td>True</td>\n",
       "      <td>True</td>\n",
       "      <td>6</td>\n",
       "    </tr>\n",
       "    <tr>\n",
       "      <th>2</th>\n",
       "      <td>st_slope_Flat</td>\n",
       "      <td>True</td>\n",
       "      <td>True</td>\n",
       "      <td>True</td>\n",
       "      <td>False</td>\n",
       "      <td>True</td>\n",
       "      <td>True</td>\n",
       "      <td>5</td>\n",
       "    </tr>\n",
       "    <tr>\n",
       "      <th>3</th>\n",
       "      <td>exercise_induced_angina</td>\n",
       "      <td>True</td>\n",
       "      <td>True</td>\n",
       "      <td>True</td>\n",
       "      <td>False</td>\n",
       "      <td>True</td>\n",
       "      <td>True</td>\n",
       "      <td>5</td>\n",
       "    </tr>\n",
       "    <tr>\n",
       "      <th>4</th>\n",
       "      <td>cholestrol</td>\n",
       "      <td>True</td>\n",
       "      <td>False</td>\n",
       "      <td>True</td>\n",
       "      <td>True</td>\n",
       "      <td>True</td>\n",
       "      <td>True</td>\n",
       "      <td>5</td>\n",
       "    </tr>\n",
       "    <tr>\n",
       "      <th>5</th>\n",
       "      <td>Max_Heart_rate</td>\n",
       "      <td>True</td>\n",
       "      <td>True</td>\n",
       "      <td>True</td>\n",
       "      <td>False</td>\n",
       "      <td>True</td>\n",
       "      <td>True</td>\n",
       "      <td>5</td>\n",
       "    </tr>\n",
       "    <tr>\n",
       "      <th>6</th>\n",
       "      <td>st_slope_Upsloping</td>\n",
       "      <td>True</td>\n",
       "      <td>True</td>\n",
       "      <td>True</td>\n",
       "      <td>False</td>\n",
       "      <td>True</td>\n",
       "      <td>False</td>\n",
       "      <td>4</td>\n",
       "    </tr>\n",
       "    <tr>\n",
       "      <th>7</th>\n",
       "      <td>sex_male</td>\n",
       "      <td>True</td>\n",
       "      <td>True</td>\n",
       "      <td>True</td>\n",
       "      <td>True</td>\n",
       "      <td>False</td>\n",
       "      <td>False</td>\n",
       "      <td>4</td>\n",
       "    </tr>\n",
       "    <tr>\n",
       "      <th>8</th>\n",
       "      <td>chest_pain_type_aTypical Angina</td>\n",
       "      <td>True</td>\n",
       "      <td>True</td>\n",
       "      <td>True</td>\n",
       "      <td>True</td>\n",
       "      <td>False</td>\n",
       "      <td>False</td>\n",
       "      <td>4</td>\n",
       "    </tr>\n",
       "    <tr>\n",
       "      <th>9</th>\n",
       "      <td>chest_pain_type_Non Angina Pain</td>\n",
       "      <td>True</td>\n",
       "      <td>True</td>\n",
       "      <td>True</td>\n",
       "      <td>True</td>\n",
       "      <td>False</td>\n",
       "      <td>False</td>\n",
       "      <td>4</td>\n",
       "    </tr>\n",
       "    <tr>\n",
       "      <th>10</th>\n",
       "      <td>age</td>\n",
       "      <td>True</td>\n",
       "      <td>False</td>\n",
       "      <td>True</td>\n",
       "      <td>False</td>\n",
       "      <td>True</td>\n",
       "      <td>True</td>\n",
       "      <td>4</td>\n",
       "    </tr>\n",
       "    <tr>\n",
       "      <th>11</th>\n",
       "      <td>resting_blood_pressure</td>\n",
       "      <td>False</td>\n",
       "      <td>False</td>\n",
       "      <td>False</td>\n",
       "      <td>False</td>\n",
       "      <td>True</td>\n",
       "      <td>True</td>\n",
       "      <td>2</td>\n",
       "    </tr>\n",
       "  </tbody>\n",
       "</table>\n",
       "</div>"
      ],
      "text/plain": [
       "                            Feature  Pearson  Chi-2    RFE  Logistics  \\\n",
       "1                     st_depression     True   True   True       True   \n",
       "2                     st_slope_Flat     True   True   True      False   \n",
       "3           exercise_induced_angina     True   True   True      False   \n",
       "4                        cholestrol     True  False   True       True   \n",
       "5                    Max_Heart_rate     True   True   True      False   \n",
       "6                st_slope_Upsloping     True   True   True      False   \n",
       "7                          sex_male     True   True   True       True   \n",
       "8   chest_pain_type_aTypical Angina     True   True   True       True   \n",
       "9   chest_pain_type_Non Angina Pain     True   True   True       True   \n",
       "10                              age     True  False   True      False   \n",
       "11           resting_blood_pressure    False  False  False      False   \n",
       "\n",
       "    Random Forest  LightGBM  total  \n",
       "1            True      True      6  \n",
       "2            True      True      5  \n",
       "3            True      True      5  \n",
       "4            True      True      5  \n",
       "5            True      True      5  \n",
       "6            True     False      4  \n",
       "7           False     False      4  \n",
       "8           False     False      4  \n",
       "9           False     False      4  \n",
       "10           True      True      4  \n",
       "11           True      True      2  "
      ]
     },
     "execution_count": 134,
     "metadata": {},
     "output_type": "execute_result"
    }
   ],
   "source": [
    "#Display the top 100\n",
    "feature_selection_df=feature_selection_df.sort_values(['total','Feature'],ascending=False)\n",
    "feature_selection_df.index=range(1,len(feature_selection_df)+1)\n",
    "feature_selection_df.head(num_feats)"
   ]
  },
  {
   "cell_type": "code",
   "execution_count": null,
   "id": "2650a9d2",
   "metadata": {},
   "outputs": [],
   "source": []
  }
 ],
 "metadata": {
  "kernelspec": {
   "display_name": "Python 3 (ipykernel)",
   "language": "python",
   "name": "python3"
  },
  "language_info": {
   "codemirror_mode": {
    "name": "ipython",
    "version": 3
   },
   "file_extension": ".py",
   "mimetype": "text/x-python",
   "name": "python",
   "nbconvert_exporter": "python",
   "pygments_lexer": "ipython3",
   "version": "3.9.12"
  }
 },
 "nbformat": 4,
 "nbformat_minor": 5
}
